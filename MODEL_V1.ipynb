{
 "cells": [
  {
   "cell_type": "code",
   "id": "initial_id",
   "metadata": {
    "collapsed": true,
    "ExecuteTime": {
     "end_time": "2025-06-09T11:53:04.671051Z",
     "start_time": "2025-06-09T11:52:56.743615Z"
    }
   },
   "source": [
    "import numpy as np\n",
    "import matplotlib.pyplot as plt\n",
    "import sklearn\n",
    "from sklearn import metrics\n",
    "import seaborn as sns\n",
    "import itertools\n",
    "import tensorflow as tf\n",
    "from tensorflow.keras.datasets import cifar10\n",
    "%matplotlib inline"
   ],
   "outputs": [],
   "execution_count": 5
  },
  {
   "metadata": {
    "ExecuteTime": {
     "end_time": "2025-06-09T11:53:07.698259Z",
     "start_time": "2025-06-09T11:53:07.695233Z"
    }
   },
   "cell_type": "code",
   "source": "print(\"Num of GPUs available : \", len(tf.config.experimental.list_physical_devices('GPU')))",
   "id": "c152dd6030870b51",
   "outputs": [
    {
     "name": "stdout",
     "output_type": "stream",
     "text": [
      "Num of GPUs available :  1\n"
     ]
    }
   ],
   "execution_count": 6
  },
  {
   "metadata": {
    "ExecuteTime": {
     "end_time": "2025-06-09T11:53:09.908647Z",
     "start_time": "2025-06-09T11:53:09.881966Z"
    }
   },
   "cell_type": "code",
   "source": [
    "gpus = tf.config.list_physical_devices('GPU')\n",
    "if gpus:\n",
    "    print(\"GPU(s) found:\")\n",
    "    for gpu in gpus:\n",
    "        print(f\"  - Name: {gpu.name}, Logical devices: {tf.config.list_logical_devices('GPU')}\")\n",
    "else:\n",
    "    print(\"No GPU found. Make sure you selected GPU runtime.\")"
   ],
   "id": "50cd3427e6b3ea32",
   "outputs": [
    {
     "name": "stdout",
     "output_type": "stream",
     "text": [
      "GPU(s) found:\n",
      "  - Name: /physical_device:GPU:0, Logical devices: [LogicalDevice(name='/device:GPU:0', device_type='GPU')]\n"
     ]
    },
    {
     "name": "stderr",
     "output_type": "stream",
     "text": [
      "2025-06-09 17:23:09.889676: I metal_plugin/src/device/metal_device.cc:1154] Metal device set to: Apple M2\n",
      "2025-06-09 17:23:09.889726: I metal_plugin/src/device/metal_device.cc:296] systemMemory: 8.00 GB\n",
      "2025-06-09 17:23:09.889734: I metal_plugin/src/device/metal_device.cc:313] maxCacheSize: 2.67 GB\n",
      "WARNING: All log messages before absl::InitializeLog() is called are written to STDERR\n",
      "I0000 00:00:1749469989.890183  944987 pluggable_device_factory.cc:305] Could not identify NUMA node of platform GPU ID 0, defaulting to 0. Your kernel may not have been built with NUMA support.\n",
      "I0000 00:00:1749469989.890939  944987 pluggable_device_factory.cc:271] Created TensorFlow device (/job:localhost/replica:0/task:0/device:GPU:0 with 0 MB memory) -> physical PluggableDevice (device: 0, name: METAL, pci bus id: <undefined>)\n"
     ]
    }
   ],
   "execution_count": 7
  },
  {
   "metadata": {
    "ExecuteTime": {
     "end_time": "2025-06-09T11:53:17.322759Z",
     "start_time": "2025-06-09T11:53:17.319666Z"
    }
   },
   "cell_type": "code",
   "source": [
    "batch_size = 64\n",
    "num_classes = 10\n",
    "epochs = 100"
   ],
   "id": "faa19d7f8251b117",
   "outputs": [],
   "execution_count": 8
  },
  {
   "metadata": {
    "ExecuteTime": {
     "end_time": "2025-06-09T11:54:25.390401Z",
     "start_time": "2025-06-09T11:53:21.376357Z"
    }
   },
   "cell_type": "code",
   "source": [
    "(x_train, y_train), (x_test, y_test) = cifar10.load_data()\n",
    "print('x_train shape:', x_train.shape)\n",
    "print('y_train shape:', y_train.shape)\n",
    "print(x_train.shape[0], 'train samples')\n",
    "print(x_test.shape[0], 'test samples')"
   ],
   "id": "3b1b56382c0b923c",
   "outputs": [
    {
     "name": "stdout",
     "output_type": "stream",
     "text": [
      "Downloading data from https://www.cs.toronto.edu/~kriz/cifar-10-python.tar.gz\n",
      "\u001B[1m170498071/170498071\u001B[0m \u001B[32m━━━━━━━━━━━━━━━━━━━━\u001B[0m\u001B[37m\u001B[0m \u001B[1m62s\u001B[0m 0us/step\n",
      "x_train shape: (50000, 32, 32, 3)\n",
      "y_train shape: (50000, 1)\n",
      "50000 train samples\n",
      "10000 test samples\n"
     ]
    }
   ],
   "execution_count": 9
  },
  {
   "metadata": {
    "ExecuteTime": {
     "end_time": "2025-06-09T11:54:33.982042Z",
     "start_time": "2025-06-09T11:54:33.342826Z"
    }
   },
   "cell_type": "code",
   "source": [
    "x_train = x_train.astype('float32')\n",
    "x_test = x_test.astype('float32')\n",
    "x_train = x_train/255\n",
    "x_test = x_test/255"
   ],
   "id": "7c7e30099f56af97",
   "outputs": [],
   "execution_count": 10
  },
  {
   "metadata": {
    "ExecuteTime": {
     "end_time": "2025-06-09T11:54:36.297923Z",
     "start_time": "2025-06-09T11:54:36.293896Z"
    }
   },
   "cell_type": "code",
   "source": [
    "y_train = tf.keras.utils.to_categorical(y_train, num_classes)\n",
    "y_test = tf.keras.utils.to_categorical(y_test, num_classes)"
   ],
   "id": "a6edb5bca527277",
   "outputs": [],
   "execution_count": 11
  },
  {
   "metadata": {
    "ExecuteTime": {
     "end_time": "2025-06-09T11:54:40.449596Z",
     "start_time": "2025-06-09T11:54:39.428935Z"
    }
   },
   "cell_type": "code",
   "source": [
    "model = tf.keras.models.Sequential([tf.keras.layers.Conv2D(32, (3, 3), padding = 'same', input_shape = x_train.shape[1:]),\n",
    "                             tf.keras.layers.Activation('relu'),\n",
    "                             tf.keras.layers.Conv2D(32, (3, 3)),\n",
    "                             tf.keras.layers.Activation('relu'),\n",
    "                             tf.keras.layers.MaxPooling2D(pool_size=(2, 2)),\n",
    "                             tf.keras.layers.Dropout(0.25),\n",
    "\n",
    "                             tf.keras.layers.Conv2D(64, (3, 3), padding = 'same'),\n",
    "                             tf.keras.layers.Activation('relu'),\n",
    "                             tf.keras.layers.Conv2D(64, (3, 3)),\n",
    "                             tf.keras.layers.Activation('relu'),\n",
    "                             tf.keras.layers.MaxPooling2D(pool_size=(2, 2)),\n",
    "                             tf.keras.layers.Dropout(0.25),\n",
    "\n",
    "                             tf.keras.layers.Flatten(),\n",
    "                             tf.keras.layers.Dense(512),\n",
    "                             tf.keras.layers.Activation('relu'),\n",
    "                             tf.keras.layers.Dropout(0.5),\n",
    "                             tf.keras.layers.Dense(num_classes),\n",
    "                             tf.keras.layers.Activation('softmax')])\n",
    "\n",
    "model.summary()"
   ],
   "id": "9614b0224b2ada27",
   "outputs": [
    {
     "name": "stderr",
     "output_type": "stream",
     "text": [
      "/Users/anshumaansoni/PycharmProjects/cnn-model-based-on-multiple-datasets/.venv/lib/python3.12/site-packages/keras/src/layers/convolutional/base_conv.py:113: UserWarning: Do not pass an `input_shape`/`input_dim` argument to a layer. When using Sequential models, prefer using an `Input(shape)` object as the first layer in the model instead.\n",
      "  super().__init__(activity_regularizer=activity_regularizer, **kwargs)\n"
     ]
    },
    {
     "data": {
      "text/plain": [
       "\u001B[1mModel: \"sequential\"\u001B[0m\n"
      ],
      "text/html": [
       "<pre style=\"white-space:pre;overflow-x:auto;line-height:normal;font-family:Menlo,'DejaVu Sans Mono',consolas,'Courier New',monospace\"><span style=\"font-weight: bold\">Model: \"sequential\"</span>\n",
       "</pre>\n"
      ]
     },
     "metadata": {},
     "output_type": "display_data"
    },
    {
     "data": {
      "text/plain": [
       "┏━━━━━━━━━━━━━━━━━━━━━━━━━━━━━━━━━┳━━━━━━━━━━━━━━━━━━━━━━━━┳━━━━━━━━━━━━━━━┓\n",
       "┃\u001B[1m \u001B[0m\u001B[1mLayer (type)                   \u001B[0m\u001B[1m \u001B[0m┃\u001B[1m \u001B[0m\u001B[1mOutput Shape          \u001B[0m\u001B[1m \u001B[0m┃\u001B[1m \u001B[0m\u001B[1m      Param #\u001B[0m\u001B[1m \u001B[0m┃\n",
       "┡━━━━━━━━━━━━━━━━━━━━━━━━━━━━━━━━━╇━━━━━━━━━━━━━━━━━━━━━━━━╇━━━━━━━━━━━━━━━┩\n",
       "│ conv2d (\u001B[38;5;33mConv2D\u001B[0m)                 │ (\u001B[38;5;45mNone\u001B[0m, \u001B[38;5;34m32\u001B[0m, \u001B[38;5;34m32\u001B[0m, \u001B[38;5;34m32\u001B[0m)     │           \u001B[38;5;34m896\u001B[0m │\n",
       "├─────────────────────────────────┼────────────────────────┼───────────────┤\n",
       "│ activation (\u001B[38;5;33mActivation\u001B[0m)         │ (\u001B[38;5;45mNone\u001B[0m, \u001B[38;5;34m32\u001B[0m, \u001B[38;5;34m32\u001B[0m, \u001B[38;5;34m32\u001B[0m)     │             \u001B[38;5;34m0\u001B[0m │\n",
       "├─────────────────────────────────┼────────────────────────┼───────────────┤\n",
       "│ conv2d_1 (\u001B[38;5;33mConv2D\u001B[0m)               │ (\u001B[38;5;45mNone\u001B[0m, \u001B[38;5;34m30\u001B[0m, \u001B[38;5;34m30\u001B[0m, \u001B[38;5;34m32\u001B[0m)     │         \u001B[38;5;34m9,248\u001B[0m │\n",
       "├─────────────────────────────────┼────────────────────────┼───────────────┤\n",
       "│ activation_1 (\u001B[38;5;33mActivation\u001B[0m)       │ (\u001B[38;5;45mNone\u001B[0m, \u001B[38;5;34m30\u001B[0m, \u001B[38;5;34m30\u001B[0m, \u001B[38;5;34m32\u001B[0m)     │             \u001B[38;5;34m0\u001B[0m │\n",
       "├─────────────────────────────────┼────────────────────────┼───────────────┤\n",
       "│ max_pooling2d (\u001B[38;5;33mMaxPooling2D\u001B[0m)    │ (\u001B[38;5;45mNone\u001B[0m, \u001B[38;5;34m15\u001B[0m, \u001B[38;5;34m15\u001B[0m, \u001B[38;5;34m32\u001B[0m)     │             \u001B[38;5;34m0\u001B[0m │\n",
       "├─────────────────────────────────┼────────────────────────┼───────────────┤\n",
       "│ dropout (\u001B[38;5;33mDropout\u001B[0m)               │ (\u001B[38;5;45mNone\u001B[0m, \u001B[38;5;34m15\u001B[0m, \u001B[38;5;34m15\u001B[0m, \u001B[38;5;34m32\u001B[0m)     │             \u001B[38;5;34m0\u001B[0m │\n",
       "├─────────────────────────────────┼────────────────────────┼───────────────┤\n",
       "│ conv2d_2 (\u001B[38;5;33mConv2D\u001B[0m)               │ (\u001B[38;5;45mNone\u001B[0m, \u001B[38;5;34m15\u001B[0m, \u001B[38;5;34m15\u001B[0m, \u001B[38;5;34m64\u001B[0m)     │        \u001B[38;5;34m18,496\u001B[0m │\n",
       "├─────────────────────────────────┼────────────────────────┼───────────────┤\n",
       "│ activation_2 (\u001B[38;5;33mActivation\u001B[0m)       │ (\u001B[38;5;45mNone\u001B[0m, \u001B[38;5;34m15\u001B[0m, \u001B[38;5;34m15\u001B[0m, \u001B[38;5;34m64\u001B[0m)     │             \u001B[38;5;34m0\u001B[0m │\n",
       "├─────────────────────────────────┼────────────────────────┼───────────────┤\n",
       "│ conv2d_3 (\u001B[38;5;33mConv2D\u001B[0m)               │ (\u001B[38;5;45mNone\u001B[0m, \u001B[38;5;34m13\u001B[0m, \u001B[38;5;34m13\u001B[0m, \u001B[38;5;34m64\u001B[0m)     │        \u001B[38;5;34m36,928\u001B[0m │\n",
       "├─────────────────────────────────┼────────────────────────┼───────────────┤\n",
       "│ activation_3 (\u001B[38;5;33mActivation\u001B[0m)       │ (\u001B[38;5;45mNone\u001B[0m, \u001B[38;5;34m13\u001B[0m, \u001B[38;5;34m13\u001B[0m, \u001B[38;5;34m64\u001B[0m)     │             \u001B[38;5;34m0\u001B[0m │\n",
       "├─────────────────────────────────┼────────────────────────┼───────────────┤\n",
       "│ max_pooling2d_1 (\u001B[38;5;33mMaxPooling2D\u001B[0m)  │ (\u001B[38;5;45mNone\u001B[0m, \u001B[38;5;34m6\u001B[0m, \u001B[38;5;34m6\u001B[0m, \u001B[38;5;34m64\u001B[0m)       │             \u001B[38;5;34m0\u001B[0m │\n",
       "├─────────────────────────────────┼────────────────────────┼───────────────┤\n",
       "│ dropout_1 (\u001B[38;5;33mDropout\u001B[0m)             │ (\u001B[38;5;45mNone\u001B[0m, \u001B[38;5;34m6\u001B[0m, \u001B[38;5;34m6\u001B[0m, \u001B[38;5;34m64\u001B[0m)       │             \u001B[38;5;34m0\u001B[0m │\n",
       "├─────────────────────────────────┼────────────────────────┼───────────────┤\n",
       "│ flatten (\u001B[38;5;33mFlatten\u001B[0m)               │ (\u001B[38;5;45mNone\u001B[0m, \u001B[38;5;34m2304\u001B[0m)           │             \u001B[38;5;34m0\u001B[0m │\n",
       "├─────────────────────────────────┼────────────────────────┼───────────────┤\n",
       "│ dense (\u001B[38;5;33mDense\u001B[0m)                   │ (\u001B[38;5;45mNone\u001B[0m, \u001B[38;5;34m512\u001B[0m)            │     \u001B[38;5;34m1,180,160\u001B[0m │\n",
       "├─────────────────────────────────┼────────────────────────┼───────────────┤\n",
       "│ activation_4 (\u001B[38;5;33mActivation\u001B[0m)       │ (\u001B[38;5;45mNone\u001B[0m, \u001B[38;5;34m512\u001B[0m)            │             \u001B[38;5;34m0\u001B[0m │\n",
       "├─────────────────────────────────┼────────────────────────┼───────────────┤\n",
       "│ dropout_2 (\u001B[38;5;33mDropout\u001B[0m)             │ (\u001B[38;5;45mNone\u001B[0m, \u001B[38;5;34m512\u001B[0m)            │             \u001B[38;5;34m0\u001B[0m │\n",
       "├─────────────────────────────────┼────────────────────────┼───────────────┤\n",
       "│ dense_1 (\u001B[38;5;33mDense\u001B[0m)                 │ (\u001B[38;5;45mNone\u001B[0m, \u001B[38;5;34m10\u001B[0m)             │         \u001B[38;5;34m5,130\u001B[0m │\n",
       "├─────────────────────────────────┼────────────────────────┼───────────────┤\n",
       "│ activation_5 (\u001B[38;5;33mActivation\u001B[0m)       │ (\u001B[38;5;45mNone\u001B[0m, \u001B[38;5;34m10\u001B[0m)             │             \u001B[38;5;34m0\u001B[0m │\n",
       "└─────────────────────────────────┴────────────────────────┴───────────────┘\n"
      ],
      "text/html": [
       "<pre style=\"white-space:pre;overflow-x:auto;line-height:normal;font-family:Menlo,'DejaVu Sans Mono',consolas,'Courier New',monospace\">┏━━━━━━━━━━━━━━━━━━━━━━━━━━━━━━━━━┳━━━━━━━━━━━━━━━━━━━━━━━━┳━━━━━━━━━━━━━━━┓\n",
       "┃<span style=\"font-weight: bold\"> Layer (type)                    </span>┃<span style=\"font-weight: bold\"> Output Shape           </span>┃<span style=\"font-weight: bold\">       Param # </span>┃\n",
       "┡━━━━━━━━━━━━━━━━━━━━━━━━━━━━━━━━━╇━━━━━━━━━━━━━━━━━━━━━━━━╇━━━━━━━━━━━━━━━┩\n",
       "│ conv2d (<span style=\"color: #0087ff; text-decoration-color: #0087ff\">Conv2D</span>)                 │ (<span style=\"color: #00d7ff; text-decoration-color: #00d7ff\">None</span>, <span style=\"color: #00af00; text-decoration-color: #00af00\">32</span>, <span style=\"color: #00af00; text-decoration-color: #00af00\">32</span>, <span style=\"color: #00af00; text-decoration-color: #00af00\">32</span>)     │           <span style=\"color: #00af00; text-decoration-color: #00af00\">896</span> │\n",
       "├─────────────────────────────────┼────────────────────────┼───────────────┤\n",
       "│ activation (<span style=\"color: #0087ff; text-decoration-color: #0087ff\">Activation</span>)         │ (<span style=\"color: #00d7ff; text-decoration-color: #00d7ff\">None</span>, <span style=\"color: #00af00; text-decoration-color: #00af00\">32</span>, <span style=\"color: #00af00; text-decoration-color: #00af00\">32</span>, <span style=\"color: #00af00; text-decoration-color: #00af00\">32</span>)     │             <span style=\"color: #00af00; text-decoration-color: #00af00\">0</span> │\n",
       "├─────────────────────────────────┼────────────────────────┼───────────────┤\n",
       "│ conv2d_1 (<span style=\"color: #0087ff; text-decoration-color: #0087ff\">Conv2D</span>)               │ (<span style=\"color: #00d7ff; text-decoration-color: #00d7ff\">None</span>, <span style=\"color: #00af00; text-decoration-color: #00af00\">30</span>, <span style=\"color: #00af00; text-decoration-color: #00af00\">30</span>, <span style=\"color: #00af00; text-decoration-color: #00af00\">32</span>)     │         <span style=\"color: #00af00; text-decoration-color: #00af00\">9,248</span> │\n",
       "├─────────────────────────────────┼────────────────────────┼───────────────┤\n",
       "│ activation_1 (<span style=\"color: #0087ff; text-decoration-color: #0087ff\">Activation</span>)       │ (<span style=\"color: #00d7ff; text-decoration-color: #00d7ff\">None</span>, <span style=\"color: #00af00; text-decoration-color: #00af00\">30</span>, <span style=\"color: #00af00; text-decoration-color: #00af00\">30</span>, <span style=\"color: #00af00; text-decoration-color: #00af00\">32</span>)     │             <span style=\"color: #00af00; text-decoration-color: #00af00\">0</span> │\n",
       "├─────────────────────────────────┼────────────────────────┼───────────────┤\n",
       "│ max_pooling2d (<span style=\"color: #0087ff; text-decoration-color: #0087ff\">MaxPooling2D</span>)    │ (<span style=\"color: #00d7ff; text-decoration-color: #00d7ff\">None</span>, <span style=\"color: #00af00; text-decoration-color: #00af00\">15</span>, <span style=\"color: #00af00; text-decoration-color: #00af00\">15</span>, <span style=\"color: #00af00; text-decoration-color: #00af00\">32</span>)     │             <span style=\"color: #00af00; text-decoration-color: #00af00\">0</span> │\n",
       "├─────────────────────────────────┼────────────────────────┼───────────────┤\n",
       "│ dropout (<span style=\"color: #0087ff; text-decoration-color: #0087ff\">Dropout</span>)               │ (<span style=\"color: #00d7ff; text-decoration-color: #00d7ff\">None</span>, <span style=\"color: #00af00; text-decoration-color: #00af00\">15</span>, <span style=\"color: #00af00; text-decoration-color: #00af00\">15</span>, <span style=\"color: #00af00; text-decoration-color: #00af00\">32</span>)     │             <span style=\"color: #00af00; text-decoration-color: #00af00\">0</span> │\n",
       "├─────────────────────────────────┼────────────────────────┼───────────────┤\n",
       "│ conv2d_2 (<span style=\"color: #0087ff; text-decoration-color: #0087ff\">Conv2D</span>)               │ (<span style=\"color: #00d7ff; text-decoration-color: #00d7ff\">None</span>, <span style=\"color: #00af00; text-decoration-color: #00af00\">15</span>, <span style=\"color: #00af00; text-decoration-color: #00af00\">15</span>, <span style=\"color: #00af00; text-decoration-color: #00af00\">64</span>)     │        <span style=\"color: #00af00; text-decoration-color: #00af00\">18,496</span> │\n",
       "├─────────────────────────────────┼────────────────────────┼───────────────┤\n",
       "│ activation_2 (<span style=\"color: #0087ff; text-decoration-color: #0087ff\">Activation</span>)       │ (<span style=\"color: #00d7ff; text-decoration-color: #00d7ff\">None</span>, <span style=\"color: #00af00; text-decoration-color: #00af00\">15</span>, <span style=\"color: #00af00; text-decoration-color: #00af00\">15</span>, <span style=\"color: #00af00; text-decoration-color: #00af00\">64</span>)     │             <span style=\"color: #00af00; text-decoration-color: #00af00\">0</span> │\n",
       "├─────────────────────────────────┼────────────────────────┼───────────────┤\n",
       "│ conv2d_3 (<span style=\"color: #0087ff; text-decoration-color: #0087ff\">Conv2D</span>)               │ (<span style=\"color: #00d7ff; text-decoration-color: #00d7ff\">None</span>, <span style=\"color: #00af00; text-decoration-color: #00af00\">13</span>, <span style=\"color: #00af00; text-decoration-color: #00af00\">13</span>, <span style=\"color: #00af00; text-decoration-color: #00af00\">64</span>)     │        <span style=\"color: #00af00; text-decoration-color: #00af00\">36,928</span> │\n",
       "├─────────────────────────────────┼────────────────────────┼───────────────┤\n",
       "│ activation_3 (<span style=\"color: #0087ff; text-decoration-color: #0087ff\">Activation</span>)       │ (<span style=\"color: #00d7ff; text-decoration-color: #00d7ff\">None</span>, <span style=\"color: #00af00; text-decoration-color: #00af00\">13</span>, <span style=\"color: #00af00; text-decoration-color: #00af00\">13</span>, <span style=\"color: #00af00; text-decoration-color: #00af00\">64</span>)     │             <span style=\"color: #00af00; text-decoration-color: #00af00\">0</span> │\n",
       "├─────────────────────────────────┼────────────────────────┼───────────────┤\n",
       "│ max_pooling2d_1 (<span style=\"color: #0087ff; text-decoration-color: #0087ff\">MaxPooling2D</span>)  │ (<span style=\"color: #00d7ff; text-decoration-color: #00d7ff\">None</span>, <span style=\"color: #00af00; text-decoration-color: #00af00\">6</span>, <span style=\"color: #00af00; text-decoration-color: #00af00\">6</span>, <span style=\"color: #00af00; text-decoration-color: #00af00\">64</span>)       │             <span style=\"color: #00af00; text-decoration-color: #00af00\">0</span> │\n",
       "├─────────────────────────────────┼────────────────────────┼───────────────┤\n",
       "│ dropout_1 (<span style=\"color: #0087ff; text-decoration-color: #0087ff\">Dropout</span>)             │ (<span style=\"color: #00d7ff; text-decoration-color: #00d7ff\">None</span>, <span style=\"color: #00af00; text-decoration-color: #00af00\">6</span>, <span style=\"color: #00af00; text-decoration-color: #00af00\">6</span>, <span style=\"color: #00af00; text-decoration-color: #00af00\">64</span>)       │             <span style=\"color: #00af00; text-decoration-color: #00af00\">0</span> │\n",
       "├─────────────────────────────────┼────────────────────────┼───────────────┤\n",
       "│ flatten (<span style=\"color: #0087ff; text-decoration-color: #0087ff\">Flatten</span>)               │ (<span style=\"color: #00d7ff; text-decoration-color: #00d7ff\">None</span>, <span style=\"color: #00af00; text-decoration-color: #00af00\">2304</span>)           │             <span style=\"color: #00af00; text-decoration-color: #00af00\">0</span> │\n",
       "├─────────────────────────────────┼────────────────────────┼───────────────┤\n",
       "│ dense (<span style=\"color: #0087ff; text-decoration-color: #0087ff\">Dense</span>)                   │ (<span style=\"color: #00d7ff; text-decoration-color: #00d7ff\">None</span>, <span style=\"color: #00af00; text-decoration-color: #00af00\">512</span>)            │     <span style=\"color: #00af00; text-decoration-color: #00af00\">1,180,160</span> │\n",
       "├─────────────────────────────────┼────────────────────────┼───────────────┤\n",
       "│ activation_4 (<span style=\"color: #0087ff; text-decoration-color: #0087ff\">Activation</span>)       │ (<span style=\"color: #00d7ff; text-decoration-color: #00d7ff\">None</span>, <span style=\"color: #00af00; text-decoration-color: #00af00\">512</span>)            │             <span style=\"color: #00af00; text-decoration-color: #00af00\">0</span> │\n",
       "├─────────────────────────────────┼────────────────────────┼───────────────┤\n",
       "│ dropout_2 (<span style=\"color: #0087ff; text-decoration-color: #0087ff\">Dropout</span>)             │ (<span style=\"color: #00d7ff; text-decoration-color: #00d7ff\">None</span>, <span style=\"color: #00af00; text-decoration-color: #00af00\">512</span>)            │             <span style=\"color: #00af00; text-decoration-color: #00af00\">0</span> │\n",
       "├─────────────────────────────────┼────────────────────────┼───────────────┤\n",
       "│ dense_1 (<span style=\"color: #0087ff; text-decoration-color: #0087ff\">Dense</span>)                 │ (<span style=\"color: #00d7ff; text-decoration-color: #00d7ff\">None</span>, <span style=\"color: #00af00; text-decoration-color: #00af00\">10</span>)             │         <span style=\"color: #00af00; text-decoration-color: #00af00\">5,130</span> │\n",
       "├─────────────────────────────────┼────────────────────────┼───────────────┤\n",
       "│ activation_5 (<span style=\"color: #0087ff; text-decoration-color: #0087ff\">Activation</span>)       │ (<span style=\"color: #00d7ff; text-decoration-color: #00d7ff\">None</span>, <span style=\"color: #00af00; text-decoration-color: #00af00\">10</span>)             │             <span style=\"color: #00af00; text-decoration-color: #00af00\">0</span> │\n",
       "└─────────────────────────────────┴────────────────────────┴───────────────┘\n",
       "</pre>\n"
      ]
     },
     "metadata": {},
     "output_type": "display_data"
    },
    {
     "data": {
      "text/plain": [
       "\u001B[1m Total params: \u001B[0m\u001B[38;5;34m1,250,858\u001B[0m (4.77 MB)\n"
      ],
      "text/html": [
       "<pre style=\"white-space:pre;overflow-x:auto;line-height:normal;font-family:Menlo,'DejaVu Sans Mono',consolas,'Courier New',monospace\"><span style=\"font-weight: bold\"> Total params: </span><span style=\"color: #00af00; text-decoration-color: #00af00\">1,250,858</span> (4.77 MB)\n",
       "</pre>\n"
      ]
     },
     "metadata": {},
     "output_type": "display_data"
    },
    {
     "data": {
      "text/plain": [
       "\u001B[1m Trainable params: \u001B[0m\u001B[38;5;34m1,250,858\u001B[0m (4.77 MB)\n"
      ],
      "text/html": [
       "<pre style=\"white-space:pre;overflow-x:auto;line-height:normal;font-family:Menlo,'DejaVu Sans Mono',consolas,'Courier New',monospace\"><span style=\"font-weight: bold\"> Trainable params: </span><span style=\"color: #00af00; text-decoration-color: #00af00\">1,250,858</span> (4.77 MB)\n",
       "</pre>\n"
      ]
     },
     "metadata": {},
     "output_type": "display_data"
    },
    {
     "data": {
      "text/plain": [
       "\u001B[1m Non-trainable params: \u001B[0m\u001B[38;5;34m0\u001B[0m (0.00 B)\n"
      ],
      "text/html": [
       "<pre style=\"white-space:pre;overflow-x:auto;line-height:normal;font-family:Menlo,'DejaVu Sans Mono',consolas,'Courier New',monospace\"><span style=\"font-weight: bold\"> Non-trainable params: </span><span style=\"color: #00af00; text-decoration-color: #00af00\">0</span> (0.00 B)\n",
       "</pre>\n"
      ]
     },
     "metadata": {},
     "output_type": "display_data"
    }
   ],
   "execution_count": 12
  },
  {
   "metadata": {
    "ExecuteTime": {
     "end_time": "2025-06-09T11:55:27.729502Z",
     "start_time": "2025-06-09T11:55:27.408597Z"
    }
   },
   "cell_type": "code",
   "source": "opt = tf.keras.optimizers.RMSprop(learning_rate=0.0001)",
   "id": "3c1f9704541719cc",
   "outputs": [],
   "execution_count": 13
  },
  {
   "metadata": {
    "ExecuteTime": {
     "end_time": "2025-06-09T11:55:28.687651Z",
     "start_time": "2025-06-09T11:55:28.637883Z"
    }
   },
   "cell_type": "code",
   "source": [
    "model.compile(loss='categorical_crossentropy',\n",
    "              optimizer=opt,\n",
    "              metrics=['accuracy'])"
   ],
   "id": "85c8aea49cc97edd",
   "outputs": [],
   "execution_count": 14
  },
  {
   "metadata": {
    "ExecuteTime": {
     "end_time": "2025-06-09T11:56:40.592378Z",
     "start_time": "2025-06-09T11:55:30.477196Z"
    }
   },
   "cell_type": "code",
   "source": [
    "history = None  # For recording the history of trainning process.\n",
    "print('Not using data augmentation.')\n",
    "history = model.fit(x_train, y_train,\n",
    "                    batch_size=batch_size,\n",
    "                    epochs=epochs,\n",
    "                    validation_data=(x_test, y_test),\n",
    "                    shuffle=True)\n",
    "\n",
    "\n",
    "title = \"Colab Notification\"\n",
    "body = \"Model Training Finished\"\n",
    "push = pb.push_note(title, body)"
   ],
   "id": "6752b7a6c519f684",
   "outputs": [
    {
     "name": "stdout",
     "output_type": "stream",
     "text": [
      "Not using data augmentation.\n",
      "Epoch 1/100\n"
     ]
    },
    {
     "name": "stderr",
     "output_type": "stream",
     "text": [
      "2025-06-09 17:25:31.806947: I tensorflow/core/grappler/optimizers/custom_graph_optimizer_registry.cc:117] Plugin optimizer for device_type GPU is enabled.\n"
     ]
    },
    {
     "name": "stdout",
     "output_type": "stream",
     "text": [
      "\u001B[1m782/782\u001B[0m \u001B[32m━━━━━━━━━━━━━━━━━━━━\u001B[0m\u001B[37m\u001B[0m \u001B[1m24s\u001B[0m 26ms/step - accuracy: 0.2201 - loss: 2.0823 - val_accuracy: 0.3889 - val_loss: 1.6924\n",
      "Epoch 2/100\n",
      "\u001B[1m782/782\u001B[0m \u001B[32m━━━━━━━━━━━━━━━━━━━━\u001B[0m\u001B[37m\u001B[0m \u001B[1m22s\u001B[0m 28ms/step - accuracy: 0.3882 - loss: 1.6918 - val_accuracy: 0.4512 - val_loss: 1.5105\n",
      "Epoch 3/100\n",
      "\u001B[1m782/782\u001B[0m \u001B[32m━━━━━━━━━━━━━━━━━━━━\u001B[0m\u001B[37m\u001B[0m \u001B[1m21s\u001B[0m 27ms/step - accuracy: 0.4316 - loss: 1.5583 - val_accuracy: 0.4844 - val_loss: 1.4237\n",
      "Epoch 4/100\n",
      "\u001B[1m 29/782\u001B[0m \u001B[37m━━━━━━━━━━━━━━━━━━━━\u001B[0m \u001B[1m24s\u001B[0m 32ms/step - accuracy: 0.4668 - loss: 1.4657"
     ]
    },
    {
     "ename": "KeyboardInterrupt",
     "evalue": "",
     "output_type": "error",
     "traceback": [
      "\u001B[31m---------------------------------------------------------------------------\u001B[39m",
      "\u001B[31mKeyboardInterrupt\u001B[39m                         Traceback (most recent call last)",
      "\u001B[36mCell\u001B[39m\u001B[36m \u001B[39m\u001B[32mIn[15]\u001B[39m\u001B[32m, line 3\u001B[39m\n\u001B[32m      1\u001B[39m history = \u001B[38;5;28;01mNone\u001B[39;00m  \u001B[38;5;66;03m# For recording the history of trainning process.\u001B[39;00m\n\u001B[32m      2\u001B[39m \u001B[38;5;28mprint\u001B[39m(\u001B[33m'\u001B[39m\u001B[33mNot using data augmentation.\u001B[39m\u001B[33m'\u001B[39m)\n\u001B[32m----> \u001B[39m\u001B[32m3\u001B[39m history = \u001B[43mmodel\u001B[49m\u001B[43m.\u001B[49m\u001B[43mfit\u001B[49m\u001B[43m(\u001B[49m\u001B[43mx_train\u001B[49m\u001B[43m,\u001B[49m\u001B[43m \u001B[49m\u001B[43my_train\u001B[49m\u001B[43m,\u001B[49m\n\u001B[32m      4\u001B[39m \u001B[43m                    \u001B[49m\u001B[43mbatch_size\u001B[49m\u001B[43m=\u001B[49m\u001B[43mbatch_size\u001B[49m\u001B[43m,\u001B[49m\n\u001B[32m      5\u001B[39m \u001B[43m                    \u001B[49m\u001B[43mepochs\u001B[49m\u001B[43m=\u001B[49m\u001B[43mepochs\u001B[49m\u001B[43m,\u001B[49m\n\u001B[32m      6\u001B[39m \u001B[43m                    \u001B[49m\u001B[43mvalidation_data\u001B[49m\u001B[43m=\u001B[49m\u001B[43m(\u001B[49m\u001B[43mx_test\u001B[49m\u001B[43m,\u001B[49m\u001B[43m \u001B[49m\u001B[43my_test\u001B[49m\u001B[43m)\u001B[49m\u001B[43m,\u001B[49m\n\u001B[32m      7\u001B[39m \u001B[43m                    \u001B[49m\u001B[43mshuffle\u001B[49m\u001B[43m=\u001B[49m\u001B[38;5;28;43;01mTrue\u001B[39;49;00m\u001B[43m)\u001B[49m\n\u001B[32m     10\u001B[39m title = \u001B[33m\"\u001B[39m\u001B[33mColab Notification\u001B[39m\u001B[33m\"\u001B[39m\n\u001B[32m     11\u001B[39m body = \u001B[33m\"\u001B[39m\u001B[33mModel Training Finished\u001B[39m\u001B[33m\"\u001B[39m\n",
      "\u001B[36mFile \u001B[39m\u001B[32m~/PycharmProjects/cnn-model-based-on-multiple-datasets/.venv/lib/python3.12/site-packages/keras/src/utils/traceback_utils.py:117\u001B[39m, in \u001B[36mfilter_traceback.<locals>.error_handler\u001B[39m\u001B[34m(*args, **kwargs)\u001B[39m\n\u001B[32m    115\u001B[39m filtered_tb = \u001B[38;5;28;01mNone\u001B[39;00m\n\u001B[32m    116\u001B[39m \u001B[38;5;28;01mtry\u001B[39;00m:\n\u001B[32m--> \u001B[39m\u001B[32m117\u001B[39m     \u001B[38;5;28;01mreturn\u001B[39;00m \u001B[43mfn\u001B[49m\u001B[43m(\u001B[49m\u001B[43m*\u001B[49m\u001B[43margs\u001B[49m\u001B[43m,\u001B[49m\u001B[43m \u001B[49m\u001B[43m*\u001B[49m\u001B[43m*\u001B[49m\u001B[43mkwargs\u001B[49m\u001B[43m)\u001B[49m\n\u001B[32m    118\u001B[39m \u001B[38;5;28;01mexcept\u001B[39;00m \u001B[38;5;167;01mException\u001B[39;00m \u001B[38;5;28;01mas\u001B[39;00m e:\n\u001B[32m    119\u001B[39m     filtered_tb = _process_traceback_frames(e.__traceback__)\n",
      "\u001B[36mFile \u001B[39m\u001B[32m~/PycharmProjects/cnn-model-based-on-multiple-datasets/.venv/lib/python3.12/site-packages/keras/src/backend/tensorflow/trainer.py:377\u001B[39m, in \u001B[36mTensorFlowTrainer.fit\u001B[39m\u001B[34m(self, x, y, batch_size, epochs, verbose, callbacks, validation_split, validation_data, shuffle, class_weight, sample_weight, initial_epoch, steps_per_epoch, validation_steps, validation_batch_size, validation_freq)\u001B[39m\n\u001B[32m    375\u001B[39m \u001B[38;5;28;01mfor\u001B[39;00m step, iterator \u001B[38;5;129;01min\u001B[39;00m epoch_iterator:\n\u001B[32m    376\u001B[39m     callbacks.on_train_batch_begin(step)\n\u001B[32m--> \u001B[39m\u001B[32m377\u001B[39m     logs = \u001B[38;5;28;43mself\u001B[39;49m\u001B[43m.\u001B[49m\u001B[43mtrain_function\u001B[49m\u001B[43m(\u001B[49m\u001B[43miterator\u001B[49m\u001B[43m)\u001B[49m\n\u001B[32m    378\u001B[39m     callbacks.on_train_batch_end(step, logs)\n\u001B[32m    379\u001B[39m     \u001B[38;5;28;01mif\u001B[39;00m \u001B[38;5;28mself\u001B[39m.stop_training:\n",
      "\u001B[36mFile \u001B[39m\u001B[32m~/PycharmProjects/cnn-model-based-on-multiple-datasets/.venv/lib/python3.12/site-packages/keras/src/backend/tensorflow/trainer.py:220\u001B[39m, in \u001B[36mTensorFlowTrainer._make_function.<locals>.function\u001B[39m\u001B[34m(iterator)\u001B[39m\n\u001B[32m    216\u001B[39m \u001B[38;5;28;01mdef\u001B[39;00m\u001B[38;5;250m \u001B[39m\u001B[34mfunction\u001B[39m(iterator):\n\u001B[32m    217\u001B[39m     \u001B[38;5;28;01mif\u001B[39;00m \u001B[38;5;28misinstance\u001B[39m(\n\u001B[32m    218\u001B[39m         iterator, (tf.data.Iterator, tf.distribute.DistributedIterator)\n\u001B[32m    219\u001B[39m     ):\n\u001B[32m--> \u001B[39m\u001B[32m220\u001B[39m         opt_outputs = \u001B[43mmulti_step_on_iterator\u001B[49m\u001B[43m(\u001B[49m\u001B[43miterator\u001B[49m\u001B[43m)\u001B[49m\n\u001B[32m    221\u001B[39m         \u001B[38;5;28;01mif\u001B[39;00m \u001B[38;5;129;01mnot\u001B[39;00m opt_outputs.has_value():\n\u001B[32m    222\u001B[39m             \u001B[38;5;28;01mraise\u001B[39;00m \u001B[38;5;167;01mStopIteration\u001B[39;00m\n",
      "\u001B[36mFile \u001B[39m\u001B[32m~/PycharmProjects/cnn-model-based-on-multiple-datasets/.venv/lib/python3.12/site-packages/tensorflow/python/util/traceback_utils.py:150\u001B[39m, in \u001B[36mfilter_traceback.<locals>.error_handler\u001B[39m\u001B[34m(*args, **kwargs)\u001B[39m\n\u001B[32m    148\u001B[39m filtered_tb = \u001B[38;5;28;01mNone\u001B[39;00m\n\u001B[32m    149\u001B[39m \u001B[38;5;28;01mtry\u001B[39;00m:\n\u001B[32m--> \u001B[39m\u001B[32m150\u001B[39m   \u001B[38;5;28;01mreturn\u001B[39;00m \u001B[43mfn\u001B[49m\u001B[43m(\u001B[49m\u001B[43m*\u001B[49m\u001B[43margs\u001B[49m\u001B[43m,\u001B[49m\u001B[43m \u001B[49m\u001B[43m*\u001B[49m\u001B[43m*\u001B[49m\u001B[43mkwargs\u001B[49m\u001B[43m)\u001B[49m\n\u001B[32m    151\u001B[39m \u001B[38;5;28;01mexcept\u001B[39;00m \u001B[38;5;167;01mException\u001B[39;00m \u001B[38;5;28;01mas\u001B[39;00m e:\n\u001B[32m    152\u001B[39m   filtered_tb = _process_traceback_frames(e.__traceback__)\n",
      "\u001B[36mFile \u001B[39m\u001B[32m~/PycharmProjects/cnn-model-based-on-multiple-datasets/.venv/lib/python3.12/site-packages/tensorflow/python/eager/polymorphic_function/polymorphic_function.py:833\u001B[39m, in \u001B[36mFunction.__call__\u001B[39m\u001B[34m(self, *args, **kwds)\u001B[39m\n\u001B[32m    830\u001B[39m compiler = \u001B[33m\"\u001B[39m\u001B[33mxla\u001B[39m\u001B[33m\"\u001B[39m \u001B[38;5;28;01mif\u001B[39;00m \u001B[38;5;28mself\u001B[39m._jit_compile \u001B[38;5;28;01melse\u001B[39;00m \u001B[33m\"\u001B[39m\u001B[33mnonXla\u001B[39m\u001B[33m\"\u001B[39m\n\u001B[32m    832\u001B[39m \u001B[38;5;28;01mwith\u001B[39;00m OptionalXlaContext(\u001B[38;5;28mself\u001B[39m._jit_compile):\n\u001B[32m--> \u001B[39m\u001B[32m833\u001B[39m   result = \u001B[38;5;28;43mself\u001B[39;49m\u001B[43m.\u001B[49m\u001B[43m_call\u001B[49m\u001B[43m(\u001B[49m\u001B[43m*\u001B[49m\u001B[43margs\u001B[49m\u001B[43m,\u001B[49m\u001B[43m \u001B[49m\u001B[43m*\u001B[49m\u001B[43m*\u001B[49m\u001B[43mkwds\u001B[49m\u001B[43m)\u001B[49m\n\u001B[32m    835\u001B[39m new_tracing_count = \u001B[38;5;28mself\u001B[39m.experimental_get_tracing_count()\n\u001B[32m    836\u001B[39m without_tracing = (tracing_count == new_tracing_count)\n",
      "\u001B[36mFile \u001B[39m\u001B[32m~/PycharmProjects/cnn-model-based-on-multiple-datasets/.venv/lib/python3.12/site-packages/tensorflow/python/eager/polymorphic_function/polymorphic_function.py:878\u001B[39m, in \u001B[36mFunction._call\u001B[39m\u001B[34m(self, *args, **kwds)\u001B[39m\n\u001B[32m    875\u001B[39m \u001B[38;5;28mself\u001B[39m._lock.release()\n\u001B[32m    876\u001B[39m \u001B[38;5;66;03m# In this case we have not created variables on the first call. So we can\u001B[39;00m\n\u001B[32m    877\u001B[39m \u001B[38;5;66;03m# run the first trace but we should fail if variables are created.\u001B[39;00m\n\u001B[32m--> \u001B[39m\u001B[32m878\u001B[39m results = \u001B[43mtracing_compilation\u001B[49m\u001B[43m.\u001B[49m\u001B[43mcall_function\u001B[49m\u001B[43m(\u001B[49m\n\u001B[32m    879\u001B[39m \u001B[43m    \u001B[49m\u001B[43margs\u001B[49m\u001B[43m,\u001B[49m\u001B[43m \u001B[49m\u001B[43mkwds\u001B[49m\u001B[43m,\u001B[49m\u001B[43m \u001B[49m\u001B[38;5;28;43mself\u001B[39;49m\u001B[43m.\u001B[49m\u001B[43m_variable_creation_config\u001B[49m\n\u001B[32m    880\u001B[39m \u001B[43m\u001B[49m\u001B[43m)\u001B[49m\n\u001B[32m    881\u001B[39m \u001B[38;5;28;01mif\u001B[39;00m \u001B[38;5;28mself\u001B[39m._created_variables:\n\u001B[32m    882\u001B[39m   \u001B[38;5;28;01mraise\u001B[39;00m \u001B[38;5;167;01mValueError\u001B[39;00m(\u001B[33m\"\u001B[39m\u001B[33mCreating variables on a non-first call to a function\u001B[39m\u001B[33m\"\u001B[39m\n\u001B[32m    883\u001B[39m                    \u001B[33m\"\u001B[39m\u001B[33m decorated with tf.function.\u001B[39m\u001B[33m\"\u001B[39m)\n",
      "\u001B[36mFile \u001B[39m\u001B[32m~/PycharmProjects/cnn-model-based-on-multiple-datasets/.venv/lib/python3.12/site-packages/tensorflow/python/eager/polymorphic_function/tracing_compilation.py:139\u001B[39m, in \u001B[36mcall_function\u001B[39m\u001B[34m(args, kwargs, tracing_options)\u001B[39m\n\u001B[32m    137\u001B[39m bound_args = function.function_type.bind(*args, **kwargs)\n\u001B[32m    138\u001B[39m flat_inputs = function.function_type.unpack_inputs(bound_args)\n\u001B[32m--> \u001B[39m\u001B[32m139\u001B[39m \u001B[38;5;28;01mreturn\u001B[39;00m \u001B[43mfunction\u001B[49m\u001B[43m.\u001B[49m\u001B[43m_call_flat\u001B[49m\u001B[43m(\u001B[49m\u001B[43m  \u001B[49m\u001B[38;5;66;43;03m# pylint: disable=protected-access\u001B[39;49;00m\n\u001B[32m    140\u001B[39m \u001B[43m    \u001B[49m\u001B[43mflat_inputs\u001B[49m\u001B[43m,\u001B[49m\u001B[43m \u001B[49m\u001B[43mcaptured_inputs\u001B[49m\u001B[43m=\u001B[49m\u001B[43mfunction\u001B[49m\u001B[43m.\u001B[49m\u001B[43mcaptured_inputs\u001B[49m\n\u001B[32m    141\u001B[39m \u001B[43m\u001B[49m\u001B[43m)\u001B[49m\n",
      "\u001B[36mFile \u001B[39m\u001B[32m~/PycharmProjects/cnn-model-based-on-multiple-datasets/.venv/lib/python3.12/site-packages/tensorflow/python/eager/polymorphic_function/concrete_function.py:1322\u001B[39m, in \u001B[36mConcreteFunction._call_flat\u001B[39m\u001B[34m(self, tensor_inputs, captured_inputs)\u001B[39m\n\u001B[32m   1318\u001B[39m possible_gradient_type = gradients_util.PossibleTapeGradientTypes(args)\n\u001B[32m   1319\u001B[39m \u001B[38;5;28;01mif\u001B[39;00m (possible_gradient_type == gradients_util.POSSIBLE_GRADIENT_TYPES_NONE\n\u001B[32m   1320\u001B[39m     \u001B[38;5;129;01mand\u001B[39;00m executing_eagerly):\n\u001B[32m   1321\u001B[39m   \u001B[38;5;66;03m# No tape is watching; skip to running the function.\u001B[39;00m\n\u001B[32m-> \u001B[39m\u001B[32m1322\u001B[39m   \u001B[38;5;28;01mreturn\u001B[39;00m \u001B[38;5;28;43mself\u001B[39;49m\u001B[43m.\u001B[49m\u001B[43m_inference_function\u001B[49m\u001B[43m.\u001B[49m\u001B[43mcall_preflattened\u001B[49m\u001B[43m(\u001B[49m\u001B[43margs\u001B[49m\u001B[43m)\u001B[49m\n\u001B[32m   1323\u001B[39m forward_backward = \u001B[38;5;28mself\u001B[39m._select_forward_and_backward_functions(\n\u001B[32m   1324\u001B[39m     args,\n\u001B[32m   1325\u001B[39m     possible_gradient_type,\n\u001B[32m   1326\u001B[39m     executing_eagerly)\n\u001B[32m   1327\u001B[39m forward_function, args_with_tangents = forward_backward.forward()\n",
      "\u001B[36mFile \u001B[39m\u001B[32m~/PycharmProjects/cnn-model-based-on-multiple-datasets/.venv/lib/python3.12/site-packages/tensorflow/python/eager/polymorphic_function/atomic_function.py:216\u001B[39m, in \u001B[36mAtomicFunction.call_preflattened\u001B[39m\u001B[34m(self, args)\u001B[39m\n\u001B[32m    214\u001B[39m \u001B[38;5;28;01mdef\u001B[39;00m\u001B[38;5;250m \u001B[39m\u001B[34mcall_preflattened\u001B[39m(\u001B[38;5;28mself\u001B[39m, args: Sequence[core.Tensor]) -> Any:\n\u001B[32m    215\u001B[39m \u001B[38;5;250m  \u001B[39m\u001B[33;03m\"\"\"Calls with flattened tensor inputs and returns the structured output.\"\"\"\u001B[39;00m\n\u001B[32m--> \u001B[39m\u001B[32m216\u001B[39m   flat_outputs = \u001B[38;5;28;43mself\u001B[39;49m\u001B[43m.\u001B[49m\u001B[43mcall_flat\u001B[49m\u001B[43m(\u001B[49m\u001B[43m*\u001B[49m\u001B[43margs\u001B[49m\u001B[43m)\u001B[49m\n\u001B[32m    217\u001B[39m   \u001B[38;5;28;01mreturn\u001B[39;00m \u001B[38;5;28mself\u001B[39m.function_type.pack_output(flat_outputs)\n",
      "\u001B[36mFile \u001B[39m\u001B[32m~/PycharmProjects/cnn-model-based-on-multiple-datasets/.venv/lib/python3.12/site-packages/tensorflow/python/eager/polymorphic_function/atomic_function.py:251\u001B[39m, in \u001B[36mAtomicFunction.call_flat\u001B[39m\u001B[34m(self, *args)\u001B[39m\n\u001B[32m    249\u001B[39m \u001B[38;5;28;01mwith\u001B[39;00m record.stop_recording():\n\u001B[32m    250\u001B[39m   \u001B[38;5;28;01mif\u001B[39;00m \u001B[38;5;28mself\u001B[39m._bound_context.executing_eagerly():\n\u001B[32m--> \u001B[39m\u001B[32m251\u001B[39m     outputs = \u001B[38;5;28;43mself\u001B[39;49m\u001B[43m.\u001B[49m\u001B[43m_bound_context\u001B[49m\u001B[43m.\u001B[49m\u001B[43mcall_function\u001B[49m\u001B[43m(\u001B[49m\n\u001B[32m    252\u001B[39m \u001B[43m        \u001B[49m\u001B[38;5;28;43mself\u001B[39;49m\u001B[43m.\u001B[49m\u001B[43mname\u001B[49m\u001B[43m,\u001B[49m\n\u001B[32m    253\u001B[39m \u001B[43m        \u001B[49m\u001B[38;5;28;43mlist\u001B[39;49m\u001B[43m(\u001B[49m\u001B[43margs\u001B[49m\u001B[43m)\u001B[49m\u001B[43m,\u001B[49m\n\u001B[32m    254\u001B[39m \u001B[43m        \u001B[49m\u001B[38;5;28;43mlen\u001B[39;49m\u001B[43m(\u001B[49m\u001B[38;5;28;43mself\u001B[39;49m\u001B[43m.\u001B[49m\u001B[43mfunction_type\u001B[49m\u001B[43m.\u001B[49m\u001B[43mflat_outputs\u001B[49m\u001B[43m)\u001B[49m\u001B[43m,\u001B[49m\n\u001B[32m    255\u001B[39m \u001B[43m    \u001B[49m\u001B[43m)\u001B[49m\n\u001B[32m    256\u001B[39m   \u001B[38;5;28;01melse\u001B[39;00m:\n\u001B[32m    257\u001B[39m     outputs = make_call_op_in_graph(\n\u001B[32m    258\u001B[39m         \u001B[38;5;28mself\u001B[39m,\n\u001B[32m    259\u001B[39m         \u001B[38;5;28mlist\u001B[39m(args),\n\u001B[32m    260\u001B[39m         \u001B[38;5;28mself\u001B[39m._bound_context.function_call_options.as_attrs(),\n\u001B[32m    261\u001B[39m     )\n",
      "\u001B[36mFile \u001B[39m\u001B[32m~/PycharmProjects/cnn-model-based-on-multiple-datasets/.venv/lib/python3.12/site-packages/tensorflow/python/eager/context.py:1688\u001B[39m, in \u001B[36mContext.call_function\u001B[39m\u001B[34m(self, name, tensor_inputs, num_outputs)\u001B[39m\n\u001B[32m   1686\u001B[39m cancellation_context = cancellation.context()\n\u001B[32m   1687\u001B[39m \u001B[38;5;28;01mif\u001B[39;00m cancellation_context \u001B[38;5;129;01mis\u001B[39;00m \u001B[38;5;28;01mNone\u001B[39;00m:\n\u001B[32m-> \u001B[39m\u001B[32m1688\u001B[39m   outputs = \u001B[43mexecute\u001B[49m\u001B[43m.\u001B[49m\u001B[43mexecute\u001B[49m\u001B[43m(\u001B[49m\n\u001B[32m   1689\u001B[39m \u001B[43m      \u001B[49m\u001B[43mname\u001B[49m\u001B[43m.\u001B[49m\u001B[43mdecode\u001B[49m\u001B[43m(\u001B[49m\u001B[33;43m\"\u001B[39;49m\u001B[33;43mutf-8\u001B[39;49m\u001B[33;43m\"\u001B[39;49m\u001B[43m)\u001B[49m\u001B[43m,\u001B[49m\n\u001B[32m   1690\u001B[39m \u001B[43m      \u001B[49m\u001B[43mnum_outputs\u001B[49m\u001B[43m=\u001B[49m\u001B[43mnum_outputs\u001B[49m\u001B[43m,\u001B[49m\n\u001B[32m   1691\u001B[39m \u001B[43m      \u001B[49m\u001B[43minputs\u001B[49m\u001B[43m=\u001B[49m\u001B[43mtensor_inputs\u001B[49m\u001B[43m,\u001B[49m\n\u001B[32m   1692\u001B[39m \u001B[43m      \u001B[49m\u001B[43mattrs\u001B[49m\u001B[43m=\u001B[49m\u001B[43mattrs\u001B[49m\u001B[43m,\u001B[49m\n\u001B[32m   1693\u001B[39m \u001B[43m      \u001B[49m\u001B[43mctx\u001B[49m\u001B[43m=\u001B[49m\u001B[38;5;28;43mself\u001B[39;49m\u001B[43m,\u001B[49m\n\u001B[32m   1694\u001B[39m \u001B[43m  \u001B[49m\u001B[43m)\u001B[49m\n\u001B[32m   1695\u001B[39m \u001B[38;5;28;01melse\u001B[39;00m:\n\u001B[32m   1696\u001B[39m   outputs = execute.execute_with_cancellation(\n\u001B[32m   1697\u001B[39m       name.decode(\u001B[33m\"\u001B[39m\u001B[33mutf-8\u001B[39m\u001B[33m\"\u001B[39m),\n\u001B[32m   1698\u001B[39m       num_outputs=num_outputs,\n\u001B[32m   (...)\u001B[39m\u001B[32m   1702\u001B[39m       cancellation_manager=cancellation_context,\n\u001B[32m   1703\u001B[39m   )\n",
      "\u001B[36mFile \u001B[39m\u001B[32m~/PycharmProjects/cnn-model-based-on-multiple-datasets/.venv/lib/python3.12/site-packages/tensorflow/python/eager/execute.py:53\u001B[39m, in \u001B[36mquick_execute\u001B[39m\u001B[34m(op_name, num_outputs, inputs, attrs, ctx, name)\u001B[39m\n\u001B[32m     51\u001B[39m \u001B[38;5;28;01mtry\u001B[39;00m:\n\u001B[32m     52\u001B[39m   ctx.ensure_initialized()\n\u001B[32m---> \u001B[39m\u001B[32m53\u001B[39m   tensors = \u001B[43mpywrap_tfe\u001B[49m\u001B[43m.\u001B[49m\u001B[43mTFE_Py_Execute\u001B[49m\u001B[43m(\u001B[49m\u001B[43mctx\u001B[49m\u001B[43m.\u001B[49m\u001B[43m_handle\u001B[49m\u001B[43m,\u001B[49m\u001B[43m \u001B[49m\u001B[43mdevice_name\u001B[49m\u001B[43m,\u001B[49m\u001B[43m \u001B[49m\u001B[43mop_name\u001B[49m\u001B[43m,\u001B[49m\n\u001B[32m     54\u001B[39m \u001B[43m                                      \u001B[49m\u001B[43minputs\u001B[49m\u001B[43m,\u001B[49m\u001B[43m \u001B[49m\u001B[43mattrs\u001B[49m\u001B[43m,\u001B[49m\u001B[43m \u001B[49m\u001B[43mnum_outputs\u001B[49m\u001B[43m)\u001B[49m\n\u001B[32m     55\u001B[39m \u001B[38;5;28;01mexcept\u001B[39;00m core._NotOkStatusException \u001B[38;5;28;01mas\u001B[39;00m e:\n\u001B[32m     56\u001B[39m   \u001B[38;5;28;01mif\u001B[39;00m name \u001B[38;5;129;01mis\u001B[39;00m \u001B[38;5;129;01mnot\u001B[39;00m \u001B[38;5;28;01mNone\u001B[39;00m:\n",
      "\u001B[31mKeyboardInterrupt\u001B[39m: "
     ]
    },
    {
     "ename": "KeyboardInterrupt",
     "evalue": "",
     "output_type": "error",
     "traceback": [
      "\u001B[31m---------------------------------------------------------------------------\u001B[39m",
      "\u001B[31mKeyboardInterrupt\u001B[39m                         Traceback (most recent call last)",
      "\u001B[36mFile \u001B[39m\u001B[32m~/PycharmProjects/cnn-model-based-on-multiple-datasets/.venv/lib/python3.12/site-packages/IPython/core/async_helpers.py:128\u001B[39m, in \u001B[36m_pseudo_sync_runner\u001B[39m\u001B[34m(coro)\u001B[39m\n\u001B[32m    120\u001B[39m \u001B[38;5;250m\u001B[39m\u001B[33;03m\"\"\"\u001B[39;00m\n\u001B[32m    121\u001B[39m \u001B[33;03mA runner that does not really allow async execution, and just advance the coroutine.\u001B[39;00m\n\u001B[32m    122\u001B[39m \n\u001B[32m   (...)\u001B[39m\u001B[32m    125\u001B[39m \u001B[33;03mCredit to Nathaniel Smith\u001B[39;00m\n\u001B[32m    126\u001B[39m \u001B[33;03m\"\"\"\u001B[39;00m\n\u001B[32m    127\u001B[39m \u001B[38;5;28;01mtry\u001B[39;00m:\n\u001B[32m--> \u001B[39m\u001B[32m128\u001B[39m     \u001B[43mcoro\u001B[49m\u001B[43m.\u001B[49m\u001B[43msend\u001B[49m\u001B[43m(\u001B[49m\u001B[38;5;28;43;01mNone\u001B[39;49;00m\u001B[43m)\u001B[49m\n\u001B[32m    129\u001B[39m \u001B[38;5;28;01mexcept\u001B[39;00m \u001B[38;5;167;01mStopIteration\u001B[39;00m \u001B[38;5;28;01mas\u001B[39;00m exc:\n\u001B[32m    130\u001B[39m     \u001B[38;5;28;01mreturn\u001B[39;00m exc.value\n",
      "\u001B[36mFile \u001B[39m\u001B[32m~/PycharmProjects/cnn-model-based-on-multiple-datasets/.venv/lib/python3.12/site-packages/IPython/core/interactiveshell.py:3386\u001B[39m, in \u001B[36mInteractiveShell.run_cell_async\u001B[39m\u001B[34m(self, raw_cell, store_history, silent, shell_futures, transformed_cell, preprocessing_exc_tuple, cell_id)\u001B[39m\n\u001B[32m   3382\u001B[39m exec_count = \u001B[38;5;28mself\u001B[39m.execution_count\n\u001B[32m   3383\u001B[39m \u001B[38;5;28;01mif\u001B[39;00m result.error_in_exec:\n\u001B[32m   3384\u001B[39m     \u001B[38;5;66;03m# Store formatted traceback and error details\u001B[39;00m\n\u001B[32m   3385\u001B[39m     \u001B[38;5;28mself\u001B[39m.history_manager.exceptions[exec_count] = (\n\u001B[32m-> \u001B[39m\u001B[32m3386\u001B[39m         \u001B[38;5;28;43mself\u001B[39;49m\u001B[43m.\u001B[49m\u001B[43m_format_exception_for_storage\u001B[49m\u001B[43m(\u001B[49m\u001B[43mresult\u001B[49m\u001B[43m.\u001B[49m\u001B[43merror_in_exec\u001B[49m\u001B[43m)\u001B[49m\n\u001B[32m   3387\u001B[39m     )\n\u001B[32m   3389\u001B[39m \u001B[38;5;66;03m# Each cell is a *single* input, regardless of how many lines it has\u001B[39;00m\n\u001B[32m   3390\u001B[39m \u001B[38;5;28mself\u001B[39m.execution_count += \u001B[32m1\u001B[39m\n",
      "\u001B[36mFile \u001B[39m\u001B[32m~/PycharmProjects/cnn-model-based-on-multiple-datasets/.venv/lib/python3.12/site-packages/IPython/core/interactiveshell.py:3440\u001B[39m, in \u001B[36mInteractiveShell._format_exception_for_storage\u001B[39m\u001B[34m(self, exception, filename, running_compiled_code)\u001B[39m\n\u001B[32m   3437\u001B[39m         stb = evalue._render_traceback_()\n\u001B[32m   3438\u001B[39m     \u001B[38;5;28;01melse\u001B[39;00m:\n\u001B[32m   3439\u001B[39m         \u001B[38;5;66;03m# Otherwise, use InteractiveTB to format the traceback.\u001B[39;00m\n\u001B[32m-> \u001B[39m\u001B[32m3440\u001B[39m         stb = \u001B[38;5;28;43mself\u001B[39;49m\u001B[43m.\u001B[49m\u001B[43mInteractiveTB\u001B[49m\u001B[43m.\u001B[49m\u001B[43mstructured_traceback\u001B[49m\u001B[43m(\u001B[49m\n\u001B[32m   3441\u001B[39m \u001B[43m            \u001B[49m\u001B[43metype\u001B[49m\u001B[43m,\u001B[49m\u001B[43m \u001B[49m\u001B[43mevalue\u001B[49m\u001B[43m,\u001B[49m\u001B[43m \u001B[49m\u001B[43mtb\u001B[49m\u001B[43m,\u001B[49m\u001B[43m \u001B[49m\u001B[43mtb_offset\u001B[49m\u001B[43m=\u001B[49m\u001B[32;43m1\u001B[39;49m\n\u001B[32m   3442\u001B[39m \u001B[43m        \u001B[49m\u001B[43m)\u001B[49m\n\u001B[32m   3443\u001B[39m \u001B[38;5;28;01mexcept\u001B[39;00m \u001B[38;5;167;01mException\u001B[39;00m:\n\u001B[32m   3444\u001B[39m     \u001B[38;5;66;03m# In case formatting fails, fallback to Python's built-in formatting.\u001B[39;00m\n\u001B[32m   3445\u001B[39m     stb = traceback.format_exception(etype, evalue, tb)\n",
      "\u001B[36mFile \u001B[39m\u001B[32m~/PycharmProjects/cnn-model-based-on-multiple-datasets/.venv/lib/python3.12/site-packages/IPython/core/ultratb.py:1182\u001B[39m, in \u001B[36mAutoFormattedTB.structured_traceback\u001B[39m\u001B[34m(self, etype, evalue, etb, tb_offset, context)\u001B[39m\n\u001B[32m   1180\u001B[39m \u001B[38;5;28;01melse\u001B[39;00m:\n\u001B[32m   1181\u001B[39m     \u001B[38;5;28mself\u001B[39m.tb = etb\n\u001B[32m-> \u001B[39m\u001B[32m1182\u001B[39m \u001B[38;5;28;01mreturn\u001B[39;00m \u001B[43mFormattedTB\u001B[49m\u001B[43m.\u001B[49m\u001B[43mstructured_traceback\u001B[49m\u001B[43m(\u001B[49m\n\u001B[32m   1183\u001B[39m \u001B[43m    \u001B[49m\u001B[38;5;28;43mself\u001B[39;49m\u001B[43m,\u001B[49m\u001B[43m \u001B[49m\u001B[43metype\u001B[49m\u001B[43m,\u001B[49m\u001B[43m \u001B[49m\u001B[43mevalue\u001B[49m\u001B[43m,\u001B[49m\u001B[43m \u001B[49m\u001B[43metb\u001B[49m\u001B[43m,\u001B[49m\u001B[43m \u001B[49m\u001B[43mtb_offset\u001B[49m\u001B[43m,\u001B[49m\u001B[43m \u001B[49m\u001B[43mcontext\u001B[49m\n\u001B[32m   1184\u001B[39m \u001B[43m\u001B[49m\u001B[43m)\u001B[49m\n",
      "\u001B[36mFile \u001B[39m\u001B[32m~/PycharmProjects/cnn-model-based-on-multiple-datasets/.venv/lib/python3.12/site-packages/IPython/core/ultratb.py:1053\u001B[39m, in \u001B[36mFormattedTB.structured_traceback\u001B[39m\u001B[34m(self, etype, evalue, etb, tb_offset, context)\u001B[39m\n\u001B[32m   1050\u001B[39m mode = \u001B[38;5;28mself\u001B[39m.mode\n\u001B[32m   1051\u001B[39m \u001B[38;5;28;01mif\u001B[39;00m mode \u001B[38;5;129;01min\u001B[39;00m \u001B[38;5;28mself\u001B[39m.verbose_modes:\n\u001B[32m   1052\u001B[39m     \u001B[38;5;66;03m# Verbose modes need a full traceback\u001B[39;00m\n\u001B[32m-> \u001B[39m\u001B[32m1053\u001B[39m     \u001B[38;5;28;01mreturn\u001B[39;00m \u001B[43mVerboseTB\u001B[49m\u001B[43m.\u001B[49m\u001B[43mstructured_traceback\u001B[49m\u001B[43m(\u001B[49m\n\u001B[32m   1054\u001B[39m \u001B[43m        \u001B[49m\u001B[38;5;28;43mself\u001B[39;49m\u001B[43m,\u001B[49m\u001B[43m \u001B[49m\u001B[43metype\u001B[49m\u001B[43m,\u001B[49m\u001B[43m \u001B[49m\u001B[43mevalue\u001B[49m\u001B[43m,\u001B[49m\u001B[43m \u001B[49m\u001B[43metb\u001B[49m\u001B[43m,\u001B[49m\u001B[43m \u001B[49m\u001B[43mtb_offset\u001B[49m\u001B[43m,\u001B[49m\u001B[43m \u001B[49m\u001B[43mcontext\u001B[49m\n\u001B[32m   1055\u001B[39m \u001B[43m    \u001B[49m\u001B[43m)\u001B[49m\n\u001B[32m   1056\u001B[39m \u001B[38;5;28;01melif\u001B[39;00m mode == \u001B[33m\"\u001B[39m\u001B[33mDocs\u001B[39m\u001B[33m\"\u001B[39m:\n\u001B[32m   1057\u001B[39m     \u001B[38;5;66;03m# return DocTB\u001B[39;00m\n\u001B[32m   1058\u001B[39m     \u001B[38;5;28;01mreturn\u001B[39;00m DocTB(\n\u001B[32m   1059\u001B[39m         theme_name=\u001B[38;5;28mself\u001B[39m._theme_name,\n\u001B[32m   1060\u001B[39m         call_pdb=\u001B[38;5;28mself\u001B[39m.call_pdb,\n\u001B[32m   (...)\u001B[39m\u001B[32m   1068\u001B[39m         etype, evalue, etb, tb_offset, \u001B[32m1\u001B[39m\n\u001B[32m   1069\u001B[39m     )  \u001B[38;5;66;03m# type: ignore[arg-type]\u001B[39;00m\n",
      "\u001B[36mFile \u001B[39m\u001B[32m~/PycharmProjects/cnn-model-based-on-multiple-datasets/.venv/lib/python3.12/site-packages/IPython/core/ultratb.py:861\u001B[39m, in \u001B[36mVerboseTB.structured_traceback\u001B[39m\u001B[34m(self, etype, evalue, etb, tb_offset, context)\u001B[39m\n\u001B[32m    852\u001B[39m \u001B[38;5;28;01mdef\u001B[39;00m\u001B[38;5;250m \u001B[39m\u001B[34mstructured_traceback\u001B[39m(\n\u001B[32m    853\u001B[39m     \u001B[38;5;28mself\u001B[39m,\n\u001B[32m    854\u001B[39m     etype: \u001B[38;5;28mtype\u001B[39m,\n\u001B[32m   (...)\u001B[39m\u001B[32m    858\u001B[39m     context: \u001B[38;5;28mint\u001B[39m = \u001B[32m5\u001B[39m,\n\u001B[32m    859\u001B[39m ) -> \u001B[38;5;28mlist\u001B[39m[\u001B[38;5;28mstr\u001B[39m]:\n\u001B[32m    860\u001B[39m \u001B[38;5;250m    \u001B[39m\u001B[33;03m\"\"\"Return a nice text document describing the traceback.\"\"\"\u001B[39;00m\n\u001B[32m--> \u001B[39m\u001B[32m861\u001B[39m     formatted_exceptions: \u001B[38;5;28mlist\u001B[39m[\u001B[38;5;28mlist\u001B[39m[\u001B[38;5;28mstr\u001B[39m]] = \u001B[38;5;28;43mself\u001B[39;49m\u001B[43m.\u001B[49m\u001B[43mformat_exception_as_a_whole\u001B[49m\u001B[43m(\u001B[49m\n\u001B[32m    862\u001B[39m \u001B[43m        \u001B[49m\u001B[43metype\u001B[49m\u001B[43m,\u001B[49m\u001B[43m \u001B[49m\u001B[43mevalue\u001B[49m\u001B[43m,\u001B[49m\u001B[43m \u001B[49m\u001B[43metb\u001B[49m\u001B[43m,\u001B[49m\u001B[43m \u001B[49m\u001B[43mcontext\u001B[49m\u001B[43m,\u001B[49m\u001B[43m \u001B[49m\u001B[43mtb_offset\u001B[49m\n\u001B[32m    863\u001B[39m \u001B[43m    \u001B[49m\u001B[43m)\u001B[49m\n\u001B[32m    865\u001B[39m     termsize = \u001B[38;5;28mmin\u001B[39m(\u001B[32m75\u001B[39m, get_terminal_size()[\u001B[32m0\u001B[39m])\n\u001B[32m    866\u001B[39m     theme = theme_table[\u001B[38;5;28mself\u001B[39m._theme_name]\n",
      "\u001B[36mFile \u001B[39m\u001B[32m~/PycharmProjects/cnn-model-based-on-multiple-datasets/.venv/lib/python3.12/site-packages/IPython/core/ultratb.py:773\u001B[39m, in \u001B[36mVerboseTB.format_exception_as_a_whole\u001B[39m\u001B[34m(self, etype, evalue, etb, context, tb_offset)\u001B[39m\n\u001B[32m    763\u001B[39m         frames.append(\n\u001B[32m    764\u001B[39m             theme_table[\u001B[38;5;28mself\u001B[39m._theme_name].format(\n\u001B[32m    765\u001B[39m                 [\n\u001B[32m   (...)\u001B[39m\u001B[32m    770\u001B[39m             )\n\u001B[32m    771\u001B[39m         )\n\u001B[32m    772\u001B[39m         skipped = \u001B[32m0\u001B[39m\n\u001B[32m--> \u001B[39m\u001B[32m773\u001B[39m     frames.append(\u001B[38;5;28;43mself\u001B[39;49m\u001B[43m.\u001B[49m\u001B[43mformat_record\u001B[49m\u001B[43m(\u001B[49m\u001B[43mrecord\u001B[49m\u001B[43m)\u001B[49m)\n\u001B[32m    774\u001B[39m \u001B[38;5;28;01mif\u001B[39;00m skipped:\n\u001B[32m    775\u001B[39m     frames.append(\n\u001B[32m    776\u001B[39m         theme_table[\u001B[38;5;28mself\u001B[39m._theme_name].format(\n\u001B[32m    777\u001B[39m             [\n\u001B[32m   (...)\u001B[39m\u001B[32m    782\u001B[39m         )\n\u001B[32m    783\u001B[39m     )\n",
      "\u001B[36mFile \u001B[39m\u001B[32m~/PycharmProjects/cnn-model-based-on-multiple-datasets/.venv/lib/python3.12/site-packages/IPython/core/ultratb.py:651\u001B[39m, in \u001B[36mVerboseTB.format_record\u001B[39m\u001B[34m(self, frame_info)\u001B[39m\n\u001B[32m    648\u001B[39m result += \u001B[33m\"\u001B[39m\u001B[33m, \u001B[39m\u001B[33m\"\u001B[39m \u001B[38;5;28;01mif\u001B[39;00m call \u001B[38;5;28;01melse\u001B[39;00m \u001B[33m\"\u001B[39m\u001B[33m\"\u001B[39m\n\u001B[32m    649\u001B[39m result += \u001B[33mf\u001B[39m\u001B[33m\"\u001B[39m\u001B[38;5;132;01m{\u001B[39;00mcall\u001B[38;5;132;01m}\u001B[39;00m\u001B[38;5;130;01m\\n\u001B[39;00m\u001B[33m\"\u001B[39m\n\u001B[32m    650\u001B[39m result += theme_table[\u001B[38;5;28mself\u001B[39m._theme_name].format(\n\u001B[32m--> \u001B[39m\u001B[32m651\u001B[39m     \u001B[43m_format_traceback_lines\u001B[49m\u001B[43m(\u001B[49m\n\u001B[32m    652\u001B[39m \u001B[43m        \u001B[49m\u001B[43mframe_info\u001B[49m\u001B[43m.\u001B[49m\u001B[43mlines\u001B[49m\u001B[43m,\u001B[49m\n\u001B[32m    653\u001B[39m \u001B[43m        \u001B[49m\u001B[43mtheme_table\u001B[49m\u001B[43m[\u001B[49m\u001B[38;5;28;43mself\u001B[39;49m\u001B[43m.\u001B[49m\u001B[43m_theme_name\u001B[49m\u001B[43m]\u001B[49m\u001B[43m,\u001B[49m\n\u001B[32m    654\u001B[39m \u001B[43m        \u001B[49m\u001B[38;5;28;43mself\u001B[39;49m\u001B[43m.\u001B[49m\u001B[43mhas_colors\u001B[49m\u001B[43m,\u001B[49m\n\u001B[32m    655\u001B[39m \u001B[43m        \u001B[49m\u001B[43mlvals_toks\u001B[49m\u001B[43m,\u001B[49m\n\u001B[32m    656\u001B[39m \u001B[43m    \u001B[49m\u001B[43m)\u001B[49m\n\u001B[32m    657\u001B[39m )\n\u001B[32m    658\u001B[39m \u001B[38;5;28;01mreturn\u001B[39;00m result\n",
      "\u001B[36mFile \u001B[39m\u001B[32m~/PycharmProjects/cnn-model-based-on-multiple-datasets/.venv/lib/python3.12/site-packages/IPython/core/tbtools.py:99\u001B[39m, in \u001B[36m_format_traceback_lines\u001B[39m\u001B[34m(lines, theme, has_colors, lvals_toks)\u001B[39m\n\u001B[32m     96\u001B[39m     \u001B[38;5;28;01mcontinue\u001B[39;00m\n\u001B[32m     98\u001B[39m lineno = stack_line.lineno\n\u001B[32m---> \u001B[39m\u001B[32m99\u001B[39m line = \u001B[43mstack_line\u001B[49m\u001B[43m.\u001B[49m\u001B[43mrender\u001B[49m\u001B[43m(\u001B[49m\u001B[43mpygmented\u001B[49m\u001B[43m=\u001B[49m\u001B[43mhas_colors\u001B[49m\u001B[43m)\u001B[49m.rstrip(\u001B[33m\"\u001B[39m\u001B[38;5;130;01m\\n\u001B[39;00m\u001B[33m\"\u001B[39m) + \u001B[33m\"\u001B[39m\u001B[38;5;130;01m\\n\u001B[39;00m\u001B[33m\"\u001B[39m\n\u001B[32m    100\u001B[39m \u001B[38;5;28;01mif\u001B[39;00m stack_line.is_current:\n\u001B[32m    101\u001B[39m     \u001B[38;5;66;03m# This is the line with the error\u001B[39;00m\n\u001B[32m    102\u001B[39m     pad = numbers_width - \u001B[38;5;28mlen\u001B[39m(\u001B[38;5;28mstr\u001B[39m(lineno))\n",
      "\u001B[36mFile \u001B[39m\u001B[32m~/PycharmProjects/cnn-model-based-on-multiple-datasets/.venv/lib/python3.12/site-packages/stack_data/core.py:391\u001B[39m, in \u001B[36mLine.render\u001B[39m\u001B[34m(self, markers, strip_leading_indent, pygmented, escape_html)\u001B[39m\n\u001B[32m    389\u001B[39m \u001B[38;5;28;01mif\u001B[39;00m pygmented \u001B[38;5;129;01mand\u001B[39;00m \u001B[38;5;28mself\u001B[39m.frame_info.scope:\n\u001B[32m    390\u001B[39m     assert_(\u001B[38;5;129;01mnot\u001B[39;00m markers, \u001B[38;5;167;01mValueError\u001B[39;00m(\u001B[33m\"\u001B[39m\u001B[33mCannot use pygmented with markers\u001B[39m\u001B[33m\"\u001B[39m))\n\u001B[32m--> \u001B[39m\u001B[32m391\u001B[39m     start_line, lines = \u001B[38;5;28;43mself\u001B[39;49m\u001B[43m.\u001B[49m\u001B[43mframe_info\u001B[49m\u001B[43m.\u001B[49m\u001B[43m_pygmented_scope_lines\u001B[49m\n\u001B[32m    392\u001B[39m     result = lines[\u001B[38;5;28mself\u001B[39m.lineno - start_line]\n\u001B[32m    393\u001B[39m     \u001B[38;5;28;01mif\u001B[39;00m strip_leading_indent:\n",
      "\u001B[36mFile \u001B[39m\u001B[32m~/PycharmProjects/cnn-model-based-on-multiple-datasets/.venv/lib/python3.12/site-packages/stack_data/utils.py:145\u001B[39m, in \u001B[36mcached_property.cached_property_wrapper\u001B[39m\u001B[34m(self, obj, _cls)\u001B[39m\n\u001B[32m    142\u001B[39m \u001B[38;5;28;01mif\u001B[39;00m obj \u001B[38;5;129;01mis\u001B[39;00m \u001B[38;5;28;01mNone\u001B[39;00m:\n\u001B[32m    143\u001B[39m     \u001B[38;5;28;01mreturn\u001B[39;00m \u001B[38;5;28mself\u001B[39m\n\u001B[32m--> \u001B[39m\u001B[32m145\u001B[39m value = obj.\u001B[34m__dict__\u001B[39m[\u001B[38;5;28mself\u001B[39m.func.\u001B[34m__name__\u001B[39m] = \u001B[38;5;28;43mself\u001B[39;49m\u001B[43m.\u001B[49m\u001B[43mfunc\u001B[49m\u001B[43m(\u001B[49m\u001B[43mobj\u001B[49m\u001B[43m)\u001B[49m\n\u001B[32m    146\u001B[39m \u001B[38;5;28;01mreturn\u001B[39;00m value\n",
      "\u001B[36mFile \u001B[39m\u001B[32m~/PycharmProjects/cnn-model-based-on-multiple-datasets/.venv/lib/python3.12/site-packages/stack_data/core.py:824\u001B[39m, in \u001B[36mFrameInfo._pygmented_scope_lines\u001B[39m\u001B[34m(self)\u001B[39m\n\u001B[32m    821\u001B[39m     ranges = []\n\u001B[32m    823\u001B[39m code = atext.get_text(scope)\n\u001B[32m--> \u001B[39m\u001B[32m824\u001B[39m lines = \u001B[43m_pygmented_with_ranges\u001B[49m\u001B[43m(\u001B[49m\u001B[43mformatter\u001B[49m\u001B[43m,\u001B[49m\u001B[43m \u001B[49m\u001B[43mcode\u001B[49m\u001B[43m,\u001B[49m\u001B[43m \u001B[49m\u001B[43mranges\u001B[49m\u001B[43m)\u001B[49m\n\u001B[32m    826\u001B[39m start_line = \u001B[38;5;28mself\u001B[39m.source.line_range(scope)[\u001B[32m0\u001B[39m]\n\u001B[32m    828\u001B[39m \u001B[38;5;28;01mreturn\u001B[39;00m start_line, lines\n",
      "\u001B[36mFile \u001B[39m\u001B[32m~/PycharmProjects/cnn-model-based-on-multiple-datasets/.venv/lib/python3.12/site-packages/stack_data/utils.py:164\u001B[39m, in \u001B[36m_pygmented_with_ranges\u001B[39m\u001B[34m(formatter, code, ranges)\u001B[39m\n\u001B[32m    161\u001B[39m             length += \u001B[38;5;28mlen\u001B[39m(value)\n\u001B[32m    162\u001B[39m             \u001B[38;5;28;01myield\u001B[39;00m ttype, value\n\u001B[32m--> \u001B[39m\u001B[32m164\u001B[39m lexer = \u001B[43mMyLexer\u001B[49m\u001B[43m(\u001B[49m\u001B[43mstripnl\u001B[49m\u001B[43m=\u001B[49m\u001B[38;5;28;43;01mFalse\u001B[39;49;00m\u001B[43m)\u001B[49m\n\u001B[32m    165\u001B[39m \u001B[38;5;28;01mtry\u001B[39;00m:\n\u001B[32m    166\u001B[39m     highlighted = pygments.highlight(code, lexer, formatter)\n",
      "\u001B[36mFile \u001B[39m\u001B[32m~/PycharmProjects/cnn-model-based-on-multiple-datasets/.venv/lib/python3.12/site-packages/pygments/lexer.py:660\u001B[39m, in \u001B[36mRegexLexerMeta.__call__\u001B[39m\u001B[34m(cls, *args, **kwds)\u001B[39m\n\u001B[32m    658\u001B[39m         \u001B[38;5;28;01mpass\u001B[39;00m\n\u001B[32m    659\u001B[39m     \u001B[38;5;28;01melse\u001B[39;00m:\n\u001B[32m--> \u001B[39m\u001B[32m660\u001B[39m         \u001B[38;5;28mcls\u001B[39m._tokens = \u001B[38;5;28;43mcls\u001B[39;49m\u001B[43m.\u001B[49m\u001B[43mprocess_tokendef\u001B[49m\u001B[43m(\u001B[49m\u001B[33;43m'\u001B[39;49m\u001B[33;43m'\u001B[39;49m\u001B[43m,\u001B[49m\u001B[43m \u001B[49m\u001B[38;5;28;43mcls\u001B[39;49m\u001B[43m.\u001B[49m\u001B[43mget_tokendefs\u001B[49m\u001B[43m(\u001B[49m\u001B[43m)\u001B[49m\u001B[43m)\u001B[49m\n\u001B[32m    662\u001B[39m \u001B[38;5;28;01mreturn\u001B[39;00m \u001B[38;5;28mtype\u001B[39m.\u001B[34m__call__\u001B[39m(\u001B[38;5;28mcls\u001B[39m, *args, **kwds)\n",
      "\u001B[36mFile \u001B[39m\u001B[32m~/PycharmProjects/cnn-model-based-on-multiple-datasets/.venv/lib/python3.12/site-packages/pygments/lexer.py:599\u001B[39m, in \u001B[36mRegexLexerMeta.process_tokendef\u001B[39m\u001B[34m(cls, name, tokendefs)\u001B[39m\n\u001B[32m    597\u001B[39m tokendefs = tokendefs \u001B[38;5;129;01mor\u001B[39;00m \u001B[38;5;28mcls\u001B[39m.tokens[name]\n\u001B[32m    598\u001B[39m \u001B[38;5;28;01mfor\u001B[39;00m state \u001B[38;5;129;01min\u001B[39;00m \u001B[38;5;28mlist\u001B[39m(tokendefs):\n\u001B[32m--> \u001B[39m\u001B[32m599\u001B[39m     \u001B[38;5;28;43mcls\u001B[39;49m\u001B[43m.\u001B[49m\u001B[43m_process_state\u001B[49m\u001B[43m(\u001B[49m\u001B[43mtokendefs\u001B[49m\u001B[43m,\u001B[49m\u001B[43m \u001B[49m\u001B[43mprocessed\u001B[49m\u001B[43m,\u001B[49m\u001B[43m \u001B[49m\u001B[43mstate\u001B[49m\u001B[43m)\u001B[49m\n\u001B[32m    600\u001B[39m \u001B[38;5;28;01mreturn\u001B[39;00m processed\n",
      "\u001B[36mFile \u001B[39m\u001B[32m~/PycharmProjects/cnn-model-based-on-multiple-datasets/.venv/lib/python3.12/site-packages/pygments/lexer.py:563\u001B[39m, in \u001B[36mRegexLexerMeta._process_state\u001B[39m\u001B[34m(cls, unprocessed, processed, state)\u001B[39m\n\u001B[32m    560\u001B[39m \u001B[38;5;28;01mif\u001B[39;00m \u001B[38;5;28misinstance\u001B[39m(tdef, include):\n\u001B[32m    561\u001B[39m     \u001B[38;5;66;03m# it's a state reference\u001B[39;00m\n\u001B[32m    562\u001B[39m     \u001B[38;5;28;01massert\u001B[39;00m tdef != state, \u001B[33mf\u001B[39m\u001B[33m\"\u001B[39m\u001B[33mcircular state reference \u001B[39m\u001B[38;5;132;01m{\u001B[39;00mstate\u001B[38;5;132;01m!r}\u001B[39;00m\u001B[33m\"\u001B[39m\n\u001B[32m--> \u001B[39m\u001B[32m563\u001B[39m     tokens.extend(\u001B[38;5;28;43mcls\u001B[39;49m\u001B[43m.\u001B[49m\u001B[43m_process_state\u001B[49m\u001B[43m(\u001B[49m\u001B[43munprocessed\u001B[49m\u001B[43m,\u001B[49m\u001B[43m \u001B[49m\u001B[43mprocessed\u001B[49m\u001B[43m,\u001B[49m\n\u001B[32m    564\u001B[39m \u001B[43m                                     \u001B[49m\u001B[38;5;28;43mstr\u001B[39;49m\u001B[43m(\u001B[49m\u001B[43mtdef\u001B[49m\u001B[43m)\u001B[49m\u001B[43m)\u001B[49m)\n\u001B[32m    565\u001B[39m     \u001B[38;5;28;01mcontinue\u001B[39;00m\n\u001B[32m    566\u001B[39m \u001B[38;5;28;01mif\u001B[39;00m \u001B[38;5;28misinstance\u001B[39m(tdef, _inherit):\n\u001B[32m    567\u001B[39m     \u001B[38;5;66;03m# should be processed already, but may not in the case of:\u001B[39;00m\n\u001B[32m    568\u001B[39m     \u001B[38;5;66;03m# 1. the state has no counterpart in any parent\u001B[39;00m\n\u001B[32m    569\u001B[39m     \u001B[38;5;66;03m# 2. the state includes more than one 'inherit'\u001B[39;00m\n",
      "\u001B[36mFile \u001B[39m\u001B[32m~/PycharmProjects/cnn-model-based-on-multiple-datasets/.venv/lib/python3.12/site-packages/pygments/lexer.py:563\u001B[39m, in \u001B[36mRegexLexerMeta._process_state\u001B[39m\u001B[34m(cls, unprocessed, processed, state)\u001B[39m\n\u001B[32m    560\u001B[39m \u001B[38;5;28;01mif\u001B[39;00m \u001B[38;5;28misinstance\u001B[39m(tdef, include):\n\u001B[32m    561\u001B[39m     \u001B[38;5;66;03m# it's a state reference\u001B[39;00m\n\u001B[32m    562\u001B[39m     \u001B[38;5;28;01massert\u001B[39;00m tdef != state, \u001B[33mf\u001B[39m\u001B[33m\"\u001B[39m\u001B[33mcircular state reference \u001B[39m\u001B[38;5;132;01m{\u001B[39;00mstate\u001B[38;5;132;01m!r}\u001B[39;00m\u001B[33m\"\u001B[39m\n\u001B[32m--> \u001B[39m\u001B[32m563\u001B[39m     tokens.extend(\u001B[38;5;28;43mcls\u001B[39;49m\u001B[43m.\u001B[49m\u001B[43m_process_state\u001B[49m\u001B[43m(\u001B[49m\u001B[43munprocessed\u001B[49m\u001B[43m,\u001B[49m\u001B[43m \u001B[49m\u001B[43mprocessed\u001B[49m\u001B[43m,\u001B[49m\n\u001B[32m    564\u001B[39m \u001B[43m                                     \u001B[49m\u001B[38;5;28;43mstr\u001B[39;49m\u001B[43m(\u001B[49m\u001B[43mtdef\u001B[49m\u001B[43m)\u001B[49m\u001B[43m)\u001B[49m)\n\u001B[32m    565\u001B[39m     \u001B[38;5;28;01mcontinue\u001B[39;00m\n\u001B[32m    566\u001B[39m \u001B[38;5;28;01mif\u001B[39;00m \u001B[38;5;28misinstance\u001B[39m(tdef, _inherit):\n\u001B[32m    567\u001B[39m     \u001B[38;5;66;03m# should be processed already, but may not in the case of:\u001B[39;00m\n\u001B[32m    568\u001B[39m     \u001B[38;5;66;03m# 1. the state has no counterpart in any parent\u001B[39;00m\n\u001B[32m    569\u001B[39m     \u001B[38;5;66;03m# 2. the state includes more than one 'inherit'\u001B[39;00m\n",
      "\u001B[36mFile \u001B[39m\u001B[32m~/PycharmProjects/cnn-model-based-on-multiple-datasets/.venv/lib/python3.12/site-packages/pygments/lexer.py:579\u001B[39m, in \u001B[36mRegexLexerMeta._process_state\u001B[39m\u001B[34m(cls, unprocessed, processed, state)\u001B[39m\n\u001B[32m    576\u001B[39m \u001B[38;5;28;01massert\u001B[39;00m \u001B[38;5;28mtype\u001B[39m(tdef) \u001B[38;5;129;01mis\u001B[39;00m \u001B[38;5;28mtuple\u001B[39m, \u001B[33mf\u001B[39m\u001B[33m\"\u001B[39m\u001B[33mwrong rule def \u001B[39m\u001B[38;5;132;01m{\u001B[39;00mtdef\u001B[38;5;132;01m!r}\u001B[39;00m\u001B[33m\"\u001B[39m\n\u001B[32m    578\u001B[39m \u001B[38;5;28;01mtry\u001B[39;00m:\n\u001B[32m--> \u001B[39m\u001B[32m579\u001B[39m     rex = \u001B[38;5;28;43mcls\u001B[39;49m\u001B[43m.\u001B[49m\u001B[43m_process_regex\u001B[49m\u001B[43m(\u001B[49m\u001B[43mtdef\u001B[49m\u001B[43m[\u001B[49m\u001B[32;43m0\u001B[39;49m\u001B[43m]\u001B[49m\u001B[43m,\u001B[49m\u001B[43m \u001B[49m\u001B[43mrflags\u001B[49m\u001B[43m,\u001B[49m\u001B[43m \u001B[49m\u001B[43mstate\u001B[49m\u001B[43m)\u001B[49m\n\u001B[32m    580\u001B[39m \u001B[38;5;28;01mexcept\u001B[39;00m \u001B[38;5;167;01mException\u001B[39;00m \u001B[38;5;28;01mas\u001B[39;00m err:\n\u001B[32m    581\u001B[39m     \u001B[38;5;28;01mraise\u001B[39;00m \u001B[38;5;167;01mValueError\u001B[39;00m(\u001B[33mf\u001B[39m\u001B[33m\"\u001B[39m\u001B[33muncompilable regex \u001B[39m\u001B[38;5;132;01m{\u001B[39;00mtdef[\u001B[32m0\u001B[39m]\u001B[38;5;132;01m!r}\u001B[39;00m\u001B[33m in state \u001B[39m\u001B[38;5;132;01m{\u001B[39;00mstate\u001B[38;5;132;01m!r}\u001B[39;00m\u001B[33m of \u001B[39m\u001B[38;5;132;01m{\u001B[39;00m\u001B[38;5;28mcls\u001B[39m\u001B[38;5;132;01m!r}\u001B[39;00m\u001B[33m: \u001B[39m\u001B[38;5;132;01m{\u001B[39;00merr\u001B[38;5;132;01m}\u001B[39;00m\u001B[33m\"\u001B[39m) \u001B[38;5;28;01mfrom\u001B[39;00m\u001B[38;5;250m \u001B[39m\u001B[34;01merr\u001B[39;00m\n",
      "\u001B[36mFile \u001B[39m\u001B[32m~/PycharmProjects/cnn-model-based-on-multiple-datasets/.venv/lib/python3.12/site-packages/pygments/lexer.py:507\u001B[39m, in \u001B[36mRegexLexerMeta._process_regex\u001B[39m\u001B[34m(cls, regex, rflags, state)\u001B[39m\n\u001B[32m    505\u001B[39m \u001B[38;5;250m\u001B[39m\u001B[33;03m\"\"\"Preprocess the regular expression component of a token definition.\"\"\"\u001B[39;00m\n\u001B[32m    506\u001B[39m \u001B[38;5;28;01mif\u001B[39;00m \u001B[38;5;28misinstance\u001B[39m(regex, Future):\n\u001B[32m--> \u001B[39m\u001B[32m507\u001B[39m     regex = \u001B[43mregex\u001B[49m\u001B[43m.\u001B[49m\u001B[43mget\u001B[49m\u001B[43m(\u001B[49m\u001B[43m)\u001B[49m\n\u001B[32m    508\u001B[39m \u001B[38;5;28;01mreturn\u001B[39;00m re.compile(regex, rflags).match\n",
      "\u001B[36mFile \u001B[39m\u001B[32m~/PycharmProjects/cnn-model-based-on-multiple-datasets/.venv/lib/python3.12/site-packages/pygments/lexer.py:495\u001B[39m, in \u001B[36mwords.get\u001B[39m\u001B[34m(self)\u001B[39m\n\u001B[32m    494\u001B[39m \u001B[38;5;28;01mdef\u001B[39;00m\u001B[38;5;250m \u001B[39m\u001B[34mget\u001B[39m(\u001B[38;5;28mself\u001B[39m):\n\u001B[32m--> \u001B[39m\u001B[32m495\u001B[39m     \u001B[38;5;28;01mreturn\u001B[39;00m \u001B[43mregex_opt\u001B[49m\u001B[43m(\u001B[49m\u001B[38;5;28;43mself\u001B[39;49m\u001B[43m.\u001B[49m\u001B[43mwords\u001B[49m\u001B[43m,\u001B[49m\u001B[43m \u001B[49m\u001B[43mprefix\u001B[49m\u001B[43m=\u001B[49m\u001B[38;5;28;43mself\u001B[39;49m\u001B[43m.\u001B[49m\u001B[43mprefix\u001B[49m\u001B[43m,\u001B[49m\u001B[43m \u001B[49m\u001B[43msuffix\u001B[49m\u001B[43m=\u001B[49m\u001B[38;5;28;43mself\u001B[39;49m\u001B[43m.\u001B[49m\u001B[43msuffix\u001B[49m\u001B[43m)\u001B[49m\n",
      "\u001B[36mFile \u001B[39m\u001B[32m~/PycharmProjects/cnn-model-based-on-multiple-datasets/.venv/lib/python3.12/site-packages/pygments/regexopt.py:91\u001B[39m, in \u001B[36mregex_opt\u001B[39m\u001B[34m(strings, prefix, suffix)\u001B[39m\n\u001B[32m     83\u001B[39m \u001B[38;5;250m\u001B[39m\u001B[33;03m\"\"\"Return a compiled regex that matches any string in the given list.\u001B[39;00m\n\u001B[32m     84\u001B[39m \n\u001B[32m     85\u001B[39m \u001B[33;03mThe strings to match must be literal strings, not regexes.  They will be\u001B[39;00m\n\u001B[32m   (...)\u001B[39m\u001B[32m     88\u001B[39m \u001B[33;03m*prefix* and *suffix* are pre- and appended to the final regex.\u001B[39;00m\n\u001B[32m     89\u001B[39m \u001B[33;03m\"\"\"\u001B[39;00m\n\u001B[32m     90\u001B[39m strings = \u001B[38;5;28msorted\u001B[39m(strings)\n\u001B[32m---> \u001B[39m\u001B[32m91\u001B[39m \u001B[38;5;28;01mreturn\u001B[39;00m prefix + \u001B[43mregex_opt_inner\u001B[49m\u001B[43m(\u001B[49m\u001B[43mstrings\u001B[49m\u001B[43m,\u001B[49m\u001B[43m \u001B[49m\u001B[33;43m'\u001B[39;49m\u001B[33;43m(\u001B[39;49m\u001B[33;43m'\u001B[39;49m\u001B[43m)\u001B[49m + suffix\n",
      "\u001B[36mFile \u001B[39m\u001B[32m~/PycharmProjects/cnn-model-based-on-multiple-datasets/.venv/lib/python3.12/site-packages/pygments/regexopt.py:63\u001B[39m, in \u001B[36mregex_opt_inner\u001B[39m\u001B[34m(strings, open_paren)\u001B[39m\n\u001B[32m     59\u001B[39m     plen = \u001B[38;5;28mlen\u001B[39m(prefix)\n\u001B[32m     60\u001B[39m     \u001B[38;5;66;03m# we have a prefix for all strings\u001B[39;00m\n\u001B[32m     61\u001B[39m     \u001B[38;5;66;03m# print '-> prefix:', prefix\u001B[39;00m\n\u001B[32m     62\u001B[39m     \u001B[38;5;28;01mreturn\u001B[39;00m open_paren + escape(prefix) \\\n\u001B[32m---> \u001B[39m\u001B[32m63\u001B[39m         + \u001B[43mregex_opt_inner\u001B[49m\u001B[43m(\u001B[49m\u001B[43m[\u001B[49m\u001B[43ms\u001B[49m\u001B[43m[\u001B[49m\u001B[43mplen\u001B[49m\u001B[43m:\u001B[49m\u001B[43m]\u001B[49m\u001B[43m \u001B[49m\u001B[38;5;28;43;01mfor\u001B[39;49;00m\u001B[43m \u001B[49m\u001B[43ms\u001B[49m\u001B[43m \u001B[49m\u001B[38;5;129;43;01min\u001B[39;49;00m\u001B[43m \u001B[49m\u001B[43mstrings\u001B[49m\u001B[43m]\u001B[49m\u001B[43m,\u001B[49m\u001B[43m \u001B[49m\u001B[33;43m'\u001B[39;49m\u001B[33;43m(?:\u001B[39;49m\u001B[33;43m'\u001B[39;49m\u001B[43m)\u001B[49m \\\n\u001B[32m     64\u001B[39m         + close_paren\n\u001B[32m     65\u001B[39m \u001B[38;5;66;03m# is there a suffix?\u001B[39;00m\n\u001B[32m     66\u001B[39m strings_rev = [s[::-\u001B[32m1\u001B[39m] \u001B[38;5;28;01mfor\u001B[39;00m s \u001B[38;5;129;01min\u001B[39;00m strings]\n",
      "\u001B[36mFile \u001B[39m\u001B[32m~/PycharmProjects/cnn-model-based-on-multiple-datasets/.venv/lib/python3.12/site-packages/pygments/regexopt.py:72\u001B[39m, in \u001B[36mregex_opt_inner\u001B[39m\u001B[34m(strings, open_paren)\u001B[39m\n\u001B[32m     69\u001B[39m     slen = \u001B[38;5;28mlen\u001B[39m(suffix)\n\u001B[32m     70\u001B[39m     \u001B[38;5;66;03m# print '-> suffix:', suffix[::-1]\u001B[39;00m\n\u001B[32m     71\u001B[39m     \u001B[38;5;28;01mreturn\u001B[39;00m open_paren \\\n\u001B[32m---> \u001B[39m\u001B[32m72\u001B[39m         + \u001B[43mregex_opt_inner\u001B[49m\u001B[43m(\u001B[49m\u001B[38;5;28;43msorted\u001B[39;49m\u001B[43m(\u001B[49m\u001B[43ms\u001B[49m\u001B[43m[\u001B[49m\u001B[43m:\u001B[49m\u001B[43m-\u001B[49m\u001B[43mslen\u001B[49m\u001B[43m]\u001B[49m\u001B[43m \u001B[49m\u001B[38;5;28;43;01mfor\u001B[39;49;00m\u001B[43m \u001B[49m\u001B[43ms\u001B[49m\u001B[43m \u001B[49m\u001B[38;5;129;43;01min\u001B[39;49;00m\u001B[43m \u001B[49m\u001B[43mstrings\u001B[49m\u001B[43m)\u001B[49m\u001B[43m,\u001B[49m\u001B[43m \u001B[49m\u001B[33;43m'\u001B[39;49m\u001B[33;43m(?:\u001B[39;49m\u001B[33;43m'\u001B[39;49m\u001B[43m)\u001B[49m \\\n\u001B[32m     73\u001B[39m         + escape(suffix[::-\u001B[32m1\u001B[39m]) + close_paren\n\u001B[32m     74\u001B[39m \u001B[38;5;66;03m# recurse on common 1-string prefixes\u001B[39;00m\n\u001B[32m     75\u001B[39m \u001B[38;5;66;03m# print '-> last resort'\u001B[39;00m\n\u001B[32m     76\u001B[39m \u001B[38;5;28;01mreturn\u001B[39;00m open_paren + \\\n\u001B[32m     77\u001B[39m     \u001B[33m'\u001B[39m\u001B[33m|\u001B[39m\u001B[33m'\u001B[39m.join(regex_opt_inner(\u001B[38;5;28mlist\u001B[39m(group[\u001B[32m1\u001B[39m]), \u001B[33m'\u001B[39m\u001B[33m'\u001B[39m)\n\u001B[32m     78\u001B[39m              \u001B[38;5;28;01mfor\u001B[39;00m group \u001B[38;5;129;01min\u001B[39;00m groupby(strings, \u001B[38;5;28;01mlambda\u001B[39;00m s: s[\u001B[32m0\u001B[39m] == first[\u001B[32m0\u001B[39m])) \\\n\u001B[32m     79\u001B[39m     + close_paren\n",
      "\u001B[36mFile \u001B[39m\u001B[32m~/PycharmProjects/cnn-model-based-on-multiple-datasets/.venv/lib/python3.12/site-packages/pygments/regexopt.py:77\u001B[39m, in \u001B[36mregex_opt_inner\u001B[39m\u001B[34m(strings, open_paren)\u001B[39m\n\u001B[32m     71\u001B[39m     \u001B[38;5;28;01mreturn\u001B[39;00m open_paren \\\n\u001B[32m     72\u001B[39m         + regex_opt_inner(\u001B[38;5;28msorted\u001B[39m(s[:-slen] \u001B[38;5;28;01mfor\u001B[39;00m s \u001B[38;5;129;01min\u001B[39;00m strings), \u001B[33m'\u001B[39m\u001B[33m(?:\u001B[39m\u001B[33m'\u001B[39m) \\\n\u001B[32m     73\u001B[39m         + escape(suffix[::-\u001B[32m1\u001B[39m]) + close_paren\n\u001B[32m     74\u001B[39m \u001B[38;5;66;03m# recurse on common 1-string prefixes\u001B[39;00m\n\u001B[32m     75\u001B[39m \u001B[38;5;66;03m# print '-> last resort'\u001B[39;00m\n\u001B[32m     76\u001B[39m \u001B[38;5;28;01mreturn\u001B[39;00m open_paren + \\\n\u001B[32m---> \u001B[39m\u001B[32m77\u001B[39m     \u001B[33;43m'\u001B[39;49m\u001B[33;43m|\u001B[39;49m\u001B[33;43m'\u001B[39;49m\u001B[43m.\u001B[49m\u001B[43mjoin\u001B[49m\u001B[43m(\u001B[49m\u001B[43mregex_opt_inner\u001B[49m\u001B[43m(\u001B[49m\u001B[38;5;28;43mlist\u001B[39;49m\u001B[43m(\u001B[49m\u001B[43mgroup\u001B[49m\u001B[43m[\u001B[49m\u001B[32;43m1\u001B[39;49m\u001B[43m]\u001B[49m\u001B[43m)\u001B[49m\u001B[43m,\u001B[49m\u001B[43m \u001B[49m\u001B[33;43m'\u001B[39;49m\u001B[33;43m'\u001B[39;49m\u001B[43m)\u001B[49m\n\u001B[32m     78\u001B[39m \u001B[43m             \u001B[49m\u001B[38;5;28;43;01mfor\u001B[39;49;00m\u001B[43m \u001B[49m\u001B[43mgroup\u001B[49m\u001B[43m \u001B[49m\u001B[38;5;129;43;01min\u001B[39;49;00m\u001B[43m \u001B[49m\u001B[43mgroupby\u001B[49m\u001B[43m(\u001B[49m\u001B[43mstrings\u001B[49m\u001B[43m,\u001B[49m\u001B[43m \u001B[49m\u001B[38;5;28;43;01mlambda\u001B[39;49;00m\u001B[43m \u001B[49m\u001B[43ms\u001B[49m\u001B[43m:\u001B[49m\u001B[43m \u001B[49m\u001B[43ms\u001B[49m\u001B[43m[\u001B[49m\u001B[32;43m0\u001B[39;49m\u001B[43m]\u001B[49m\u001B[43m \u001B[49m\u001B[43m==\u001B[49m\u001B[43m \u001B[49m\u001B[43mfirst\u001B[49m\u001B[43m[\u001B[49m\u001B[32;43m0\u001B[39;49m\u001B[43m]\u001B[49m\u001B[43m)\u001B[49m\u001B[43m)\u001B[49m \\\n\u001B[32m     79\u001B[39m     + close_paren\n",
      "\u001B[36mFile \u001B[39m\u001B[32m~/PycharmProjects/cnn-model-based-on-multiple-datasets/.venv/lib/python3.12/site-packages/pygments/regexopt.py:77\u001B[39m, in \u001B[36m<genexpr>\u001B[39m\u001B[34m(.0)\u001B[39m\n\u001B[32m     71\u001B[39m     \u001B[38;5;28;01mreturn\u001B[39;00m open_paren \\\n\u001B[32m     72\u001B[39m         + regex_opt_inner(\u001B[38;5;28msorted\u001B[39m(s[:-slen] \u001B[38;5;28;01mfor\u001B[39;00m s \u001B[38;5;129;01min\u001B[39;00m strings), \u001B[33m'\u001B[39m\u001B[33m(?:\u001B[39m\u001B[33m'\u001B[39m) \\\n\u001B[32m     73\u001B[39m         + escape(suffix[::-\u001B[32m1\u001B[39m]) + close_paren\n\u001B[32m     74\u001B[39m \u001B[38;5;66;03m# recurse on common 1-string prefixes\u001B[39;00m\n\u001B[32m     75\u001B[39m \u001B[38;5;66;03m# print '-> last resort'\u001B[39;00m\n\u001B[32m     76\u001B[39m \u001B[38;5;28;01mreturn\u001B[39;00m open_paren + \\\n\u001B[32m---> \u001B[39m\u001B[32m77\u001B[39m     \u001B[33m'\u001B[39m\u001B[33m|\u001B[39m\u001B[33m'\u001B[39m.join(\u001B[43mregex_opt_inner\u001B[49m\u001B[43m(\u001B[49m\u001B[38;5;28;43mlist\u001B[39;49m\u001B[43m(\u001B[49m\u001B[43mgroup\u001B[49m\u001B[43m[\u001B[49m\u001B[32;43m1\u001B[39;49m\u001B[43m]\u001B[49m\u001B[43m)\u001B[49m\u001B[43m,\u001B[49m\u001B[43m \u001B[49m\u001B[33;43m'\u001B[39;49m\u001B[33;43m'\u001B[39;49m\u001B[43m)\u001B[49m\n\u001B[32m     78\u001B[39m              \u001B[38;5;28;01mfor\u001B[39;00m group \u001B[38;5;129;01min\u001B[39;00m groupby(strings, \u001B[38;5;28;01mlambda\u001B[39;00m s: s[\u001B[32m0\u001B[39m] == first[\u001B[32m0\u001B[39m])) \\\n\u001B[32m     79\u001B[39m     + close_paren\n",
      "\u001B[36mFile \u001B[39m\u001B[32m~/PycharmProjects/cnn-model-based-on-multiple-datasets/.venv/lib/python3.12/site-packages/pygments/regexopt.py:77\u001B[39m, in \u001B[36mregex_opt_inner\u001B[39m\u001B[34m(strings, open_paren)\u001B[39m\n\u001B[32m     71\u001B[39m     \u001B[38;5;28;01mreturn\u001B[39;00m open_paren \\\n\u001B[32m     72\u001B[39m         + regex_opt_inner(\u001B[38;5;28msorted\u001B[39m(s[:-slen] \u001B[38;5;28;01mfor\u001B[39;00m s \u001B[38;5;129;01min\u001B[39;00m strings), \u001B[33m'\u001B[39m\u001B[33m(?:\u001B[39m\u001B[33m'\u001B[39m) \\\n\u001B[32m     73\u001B[39m         + escape(suffix[::-\u001B[32m1\u001B[39m]) + close_paren\n\u001B[32m     74\u001B[39m \u001B[38;5;66;03m# recurse on common 1-string prefixes\u001B[39;00m\n\u001B[32m     75\u001B[39m \u001B[38;5;66;03m# print '-> last resort'\u001B[39;00m\n\u001B[32m     76\u001B[39m \u001B[38;5;28;01mreturn\u001B[39;00m open_paren + \\\n\u001B[32m---> \u001B[39m\u001B[32m77\u001B[39m     \u001B[33;43m'\u001B[39;49m\u001B[33;43m|\u001B[39;49m\u001B[33;43m'\u001B[39;49m\u001B[43m.\u001B[49m\u001B[43mjoin\u001B[49m\u001B[43m(\u001B[49m\u001B[43mregex_opt_inner\u001B[49m\u001B[43m(\u001B[49m\u001B[38;5;28;43mlist\u001B[39;49m\u001B[43m(\u001B[49m\u001B[43mgroup\u001B[49m\u001B[43m[\u001B[49m\u001B[32;43m1\u001B[39;49m\u001B[43m]\u001B[49m\u001B[43m)\u001B[49m\u001B[43m,\u001B[49m\u001B[43m \u001B[49m\u001B[33;43m'\u001B[39;49m\u001B[33;43m'\u001B[39;49m\u001B[43m)\u001B[49m\n\u001B[32m     78\u001B[39m \u001B[43m             \u001B[49m\u001B[38;5;28;43;01mfor\u001B[39;49;00m\u001B[43m \u001B[49m\u001B[43mgroup\u001B[49m\u001B[43m \u001B[49m\u001B[38;5;129;43;01min\u001B[39;49;00m\u001B[43m \u001B[49m\u001B[43mgroupby\u001B[49m\u001B[43m(\u001B[49m\u001B[43mstrings\u001B[49m\u001B[43m,\u001B[49m\u001B[43m \u001B[49m\u001B[38;5;28;43;01mlambda\u001B[39;49;00m\u001B[43m \u001B[49m\u001B[43ms\u001B[49m\u001B[43m:\u001B[49m\u001B[43m \u001B[49m\u001B[43ms\u001B[49m\u001B[43m[\u001B[49m\u001B[32;43m0\u001B[39;49m\u001B[43m]\u001B[49m\u001B[43m \u001B[49m\u001B[43m==\u001B[49m\u001B[43m \u001B[49m\u001B[43mfirst\u001B[49m\u001B[43m[\u001B[49m\u001B[32;43m0\u001B[39;49m\u001B[43m]\u001B[49m\u001B[43m)\u001B[49m\u001B[43m)\u001B[49m \\\n\u001B[32m     79\u001B[39m     + close_paren\n",
      "\u001B[36mFile \u001B[39m\u001B[32m~/PycharmProjects/cnn-model-based-on-multiple-datasets/.venv/lib/python3.12/site-packages/pygments/regexopt.py:77\u001B[39m, in \u001B[36m<genexpr>\u001B[39m\u001B[34m(.0)\u001B[39m\n\u001B[32m     71\u001B[39m     \u001B[38;5;28;01mreturn\u001B[39;00m open_paren \\\n\u001B[32m     72\u001B[39m         + regex_opt_inner(\u001B[38;5;28msorted\u001B[39m(s[:-slen] \u001B[38;5;28;01mfor\u001B[39;00m s \u001B[38;5;129;01min\u001B[39;00m strings), \u001B[33m'\u001B[39m\u001B[33m(?:\u001B[39m\u001B[33m'\u001B[39m) \\\n\u001B[32m     73\u001B[39m         + escape(suffix[::-\u001B[32m1\u001B[39m]) + close_paren\n\u001B[32m     74\u001B[39m \u001B[38;5;66;03m# recurse on common 1-string prefixes\u001B[39;00m\n\u001B[32m     75\u001B[39m \u001B[38;5;66;03m# print '-> last resort'\u001B[39;00m\n\u001B[32m     76\u001B[39m \u001B[38;5;28;01mreturn\u001B[39;00m open_paren + \\\n\u001B[32m---> \u001B[39m\u001B[32m77\u001B[39m     \u001B[33m'\u001B[39m\u001B[33m|\u001B[39m\u001B[33m'\u001B[39m.join(\u001B[43mregex_opt_inner\u001B[49m\u001B[43m(\u001B[49m\u001B[38;5;28;43mlist\u001B[39;49m\u001B[43m(\u001B[49m\u001B[43mgroup\u001B[49m\u001B[43m[\u001B[49m\u001B[32;43m1\u001B[39;49m\u001B[43m]\u001B[49m\u001B[43m)\u001B[49m\u001B[43m,\u001B[49m\u001B[43m \u001B[49m\u001B[33;43m'\u001B[39;49m\u001B[33;43m'\u001B[39;49m\u001B[43m)\u001B[49m\n\u001B[32m     78\u001B[39m              \u001B[38;5;28;01mfor\u001B[39;00m group \u001B[38;5;129;01min\u001B[39;00m groupby(strings, \u001B[38;5;28;01mlambda\u001B[39;00m s: s[\u001B[32m0\u001B[39m] == first[\u001B[32m0\u001B[39m])) \\\n\u001B[32m     79\u001B[39m     + close_paren\n",
      "    \u001B[31m[... skipping similar frames: <genexpr> at line 77 (1 times), regex_opt_inner at line 77 (1 times)]\u001B[39m\n",
      "\u001B[36mFile \u001B[39m\u001B[32m~/PycharmProjects/cnn-model-based-on-multiple-datasets/.venv/lib/python3.12/site-packages/pygments/regexopt.py:77\u001B[39m, in \u001B[36mregex_opt_inner\u001B[39m\u001B[34m(strings, open_paren)\u001B[39m\n\u001B[32m     71\u001B[39m     \u001B[38;5;28;01mreturn\u001B[39;00m open_paren \\\n\u001B[32m     72\u001B[39m         + regex_opt_inner(\u001B[38;5;28msorted\u001B[39m(s[:-slen] \u001B[38;5;28;01mfor\u001B[39;00m s \u001B[38;5;129;01min\u001B[39;00m strings), \u001B[33m'\u001B[39m\u001B[33m(?:\u001B[39m\u001B[33m'\u001B[39m) \\\n\u001B[32m     73\u001B[39m         + escape(suffix[::-\u001B[32m1\u001B[39m]) + close_paren\n\u001B[32m     74\u001B[39m \u001B[38;5;66;03m# recurse on common 1-string prefixes\u001B[39;00m\n\u001B[32m     75\u001B[39m \u001B[38;5;66;03m# print '-> last resort'\u001B[39;00m\n\u001B[32m     76\u001B[39m \u001B[38;5;28;01mreturn\u001B[39;00m open_paren + \\\n\u001B[32m---> \u001B[39m\u001B[32m77\u001B[39m     \u001B[33;43m'\u001B[39;49m\u001B[33;43m|\u001B[39;49m\u001B[33;43m'\u001B[39;49m\u001B[43m.\u001B[49m\u001B[43mjoin\u001B[49m\u001B[43m(\u001B[49m\u001B[43mregex_opt_inner\u001B[49m\u001B[43m(\u001B[49m\u001B[38;5;28;43mlist\u001B[39;49m\u001B[43m(\u001B[49m\u001B[43mgroup\u001B[49m\u001B[43m[\u001B[49m\u001B[32;43m1\u001B[39;49m\u001B[43m]\u001B[49m\u001B[43m)\u001B[49m\u001B[43m,\u001B[49m\u001B[43m \u001B[49m\u001B[33;43m'\u001B[39;49m\u001B[33;43m'\u001B[39;49m\u001B[43m)\u001B[49m\n\u001B[32m     78\u001B[39m \u001B[43m             \u001B[49m\u001B[38;5;28;43;01mfor\u001B[39;49;00m\u001B[43m \u001B[49m\u001B[43mgroup\u001B[49m\u001B[43m \u001B[49m\u001B[38;5;129;43;01min\u001B[39;49;00m\u001B[43m \u001B[49m\u001B[43mgroupby\u001B[49m\u001B[43m(\u001B[49m\u001B[43mstrings\u001B[49m\u001B[43m,\u001B[49m\u001B[43m \u001B[49m\u001B[38;5;28;43;01mlambda\u001B[39;49;00m\u001B[43m \u001B[49m\u001B[43ms\u001B[49m\u001B[43m:\u001B[49m\u001B[43m \u001B[49m\u001B[43ms\u001B[49m\u001B[43m[\u001B[49m\u001B[32;43m0\u001B[39;49m\u001B[43m]\u001B[49m\u001B[43m \u001B[49m\u001B[43m==\u001B[49m\u001B[43m \u001B[49m\u001B[43mfirst\u001B[49m\u001B[43m[\u001B[49m\u001B[32;43m0\u001B[39;49m\u001B[43m]\u001B[49m\u001B[43m)\u001B[49m\u001B[43m)\u001B[49m \\\n\u001B[32m     79\u001B[39m     + close_paren\n",
      "\u001B[36mFile \u001B[39m\u001B[32m~/PycharmProjects/cnn-model-based-on-multiple-datasets/.venv/lib/python3.12/site-packages/pygments/regexopt.py:77\u001B[39m, in \u001B[36m<genexpr>\u001B[39m\u001B[34m(.0)\u001B[39m\n\u001B[32m     71\u001B[39m     \u001B[38;5;28;01mreturn\u001B[39;00m open_paren \\\n\u001B[32m     72\u001B[39m         + regex_opt_inner(\u001B[38;5;28msorted\u001B[39m(s[:-slen] \u001B[38;5;28;01mfor\u001B[39;00m s \u001B[38;5;129;01min\u001B[39;00m strings), \u001B[33m'\u001B[39m\u001B[33m(?:\u001B[39m\u001B[33m'\u001B[39m) \\\n\u001B[32m     73\u001B[39m         + escape(suffix[::-\u001B[32m1\u001B[39m]) + close_paren\n\u001B[32m     74\u001B[39m \u001B[38;5;66;03m# recurse on common 1-string prefixes\u001B[39;00m\n\u001B[32m     75\u001B[39m \u001B[38;5;66;03m# print '-> last resort'\u001B[39;00m\n\u001B[32m     76\u001B[39m \u001B[38;5;28;01mreturn\u001B[39;00m open_paren + \\\n\u001B[32m---> \u001B[39m\u001B[32m77\u001B[39m     \u001B[33m'\u001B[39m\u001B[33m|\u001B[39m\u001B[33m'\u001B[39m.join(\u001B[43mregex_opt_inner\u001B[49m\u001B[43m(\u001B[49m\u001B[38;5;28;43mlist\u001B[39;49m\u001B[43m(\u001B[49m\u001B[43mgroup\u001B[49m\u001B[43m[\u001B[49m\u001B[32;43m1\u001B[39;49m\u001B[43m]\u001B[49m\u001B[43m)\u001B[49m\u001B[43m,\u001B[49m\u001B[43m \u001B[49m\u001B[33;43m'\u001B[39;49m\u001B[33;43m'\u001B[39;49m\u001B[43m)\u001B[49m\n\u001B[32m     78\u001B[39m              \u001B[38;5;28;01mfor\u001B[39;00m group \u001B[38;5;129;01min\u001B[39;00m groupby(strings, \u001B[38;5;28;01mlambda\u001B[39;00m s: s[\u001B[32m0\u001B[39m] == first[\u001B[32m0\u001B[39m])) \\\n\u001B[32m     79\u001B[39m     + close_paren\n",
      "\u001B[36mFile \u001B[39m\u001B[32m~/PycharmProjects/cnn-model-based-on-multiple-datasets/.venv/lib/python3.12/site-packages/pygments/regexopt.py:63\u001B[39m, in \u001B[36mregex_opt_inner\u001B[39m\u001B[34m(strings, open_paren)\u001B[39m\n\u001B[32m     59\u001B[39m     plen = \u001B[38;5;28mlen\u001B[39m(prefix)\n\u001B[32m     60\u001B[39m     \u001B[38;5;66;03m# we have a prefix for all strings\u001B[39;00m\n\u001B[32m     61\u001B[39m     \u001B[38;5;66;03m# print '-> prefix:', prefix\u001B[39;00m\n\u001B[32m     62\u001B[39m     \u001B[38;5;28;01mreturn\u001B[39;00m open_paren + escape(prefix) \\\n\u001B[32m---> \u001B[39m\u001B[32m63\u001B[39m         + \u001B[43mregex_opt_inner\u001B[49m\u001B[43m(\u001B[49m\u001B[43m[\u001B[49m\u001B[43ms\u001B[49m\u001B[43m[\u001B[49m\u001B[43mplen\u001B[49m\u001B[43m:\u001B[49m\u001B[43m]\u001B[49m\u001B[43m \u001B[49m\u001B[38;5;28;43;01mfor\u001B[39;49;00m\u001B[43m \u001B[49m\u001B[43ms\u001B[49m\u001B[43m \u001B[49m\u001B[38;5;129;43;01min\u001B[39;49;00m\u001B[43m \u001B[49m\u001B[43mstrings\u001B[49m\u001B[43m]\u001B[49m\u001B[43m,\u001B[49m\u001B[43m \u001B[49m\u001B[33;43m'\u001B[39;49m\u001B[33;43m(?:\u001B[39;49m\u001B[33;43m'\u001B[39;49m\u001B[43m)\u001B[49m \\\n\u001B[32m     64\u001B[39m         + close_paren\n\u001B[32m     65\u001B[39m \u001B[38;5;66;03m# is there a suffix?\u001B[39;00m\n\u001B[32m     66\u001B[39m strings_rev = [s[::-\u001B[32m1\u001B[39m] \u001B[38;5;28;01mfor\u001B[39;00m s \u001B[38;5;129;01min\u001B[39;00m strings]\n",
      "\u001B[36mFile \u001B[39m\u001B[32m~/PycharmProjects/cnn-model-based-on-multiple-datasets/.venv/lib/python3.12/site-packages/pygments/regexopt.py:77\u001B[39m, in \u001B[36mregex_opt_inner\u001B[39m\u001B[34m(strings, open_paren)\u001B[39m\n\u001B[32m     71\u001B[39m     \u001B[38;5;28;01mreturn\u001B[39;00m open_paren \\\n\u001B[32m     72\u001B[39m         + regex_opt_inner(\u001B[38;5;28msorted\u001B[39m(s[:-slen] \u001B[38;5;28;01mfor\u001B[39;00m s \u001B[38;5;129;01min\u001B[39;00m strings), \u001B[33m'\u001B[39m\u001B[33m(?:\u001B[39m\u001B[33m'\u001B[39m) \\\n\u001B[32m     73\u001B[39m         + escape(suffix[::-\u001B[32m1\u001B[39m]) + close_paren\n\u001B[32m     74\u001B[39m \u001B[38;5;66;03m# recurse on common 1-string prefixes\u001B[39;00m\n\u001B[32m     75\u001B[39m \u001B[38;5;66;03m# print '-> last resort'\u001B[39;00m\n\u001B[32m     76\u001B[39m \u001B[38;5;28;01mreturn\u001B[39;00m open_paren + \\\n\u001B[32m---> \u001B[39m\u001B[32m77\u001B[39m     \u001B[33;43m'\u001B[39;49m\u001B[33;43m|\u001B[39;49m\u001B[33;43m'\u001B[39;49m\u001B[43m.\u001B[49m\u001B[43mjoin\u001B[49m\u001B[43m(\u001B[49m\u001B[43mregex_opt_inner\u001B[49m\u001B[43m(\u001B[49m\u001B[38;5;28;43mlist\u001B[39;49m\u001B[43m(\u001B[49m\u001B[43mgroup\u001B[49m\u001B[43m[\u001B[49m\u001B[32;43m1\u001B[39;49m\u001B[43m]\u001B[49m\u001B[43m)\u001B[49m\u001B[43m,\u001B[49m\u001B[43m \u001B[49m\u001B[33;43m'\u001B[39;49m\u001B[33;43m'\u001B[39;49m\u001B[43m)\u001B[49m\n\u001B[32m     78\u001B[39m \u001B[43m             \u001B[49m\u001B[38;5;28;43;01mfor\u001B[39;49;00m\u001B[43m \u001B[49m\u001B[43mgroup\u001B[49m\u001B[43m \u001B[49m\u001B[38;5;129;43;01min\u001B[39;49;00m\u001B[43m \u001B[49m\u001B[43mgroupby\u001B[49m\u001B[43m(\u001B[49m\u001B[43mstrings\u001B[49m\u001B[43m,\u001B[49m\u001B[43m \u001B[49m\u001B[38;5;28;43;01mlambda\u001B[39;49;00m\u001B[43m \u001B[49m\u001B[43ms\u001B[49m\u001B[43m:\u001B[49m\u001B[43m \u001B[49m\u001B[43ms\u001B[49m\u001B[43m[\u001B[49m\u001B[32;43m0\u001B[39;49m\u001B[43m]\u001B[49m\u001B[43m \u001B[49m\u001B[43m==\u001B[49m\u001B[43m \u001B[49m\u001B[43mfirst\u001B[49m\u001B[43m[\u001B[49m\u001B[32;43m0\u001B[39;49m\u001B[43m]\u001B[49m\u001B[43m)\u001B[49m\u001B[43m)\u001B[49m \\\n\u001B[32m     79\u001B[39m     + close_paren\n",
      "\u001B[36mFile \u001B[39m\u001B[32m~/PycharmProjects/cnn-model-based-on-multiple-datasets/.venv/lib/python3.12/site-packages/pygments/regexopt.py:77\u001B[39m, in \u001B[36m<genexpr>\u001B[39m\u001B[34m(.0)\u001B[39m\n\u001B[32m     71\u001B[39m     \u001B[38;5;28;01mreturn\u001B[39;00m open_paren \\\n\u001B[32m     72\u001B[39m         + regex_opt_inner(\u001B[38;5;28msorted\u001B[39m(s[:-slen] \u001B[38;5;28;01mfor\u001B[39;00m s \u001B[38;5;129;01min\u001B[39;00m strings), \u001B[33m'\u001B[39m\u001B[33m(?:\u001B[39m\u001B[33m'\u001B[39m) \\\n\u001B[32m     73\u001B[39m         + escape(suffix[::-\u001B[32m1\u001B[39m]) + close_paren\n\u001B[32m     74\u001B[39m \u001B[38;5;66;03m# recurse on common 1-string prefixes\u001B[39;00m\n\u001B[32m     75\u001B[39m \u001B[38;5;66;03m# print '-> last resort'\u001B[39;00m\n\u001B[32m     76\u001B[39m \u001B[38;5;28;01mreturn\u001B[39;00m open_paren + \\\n\u001B[32m---> \u001B[39m\u001B[32m77\u001B[39m     \u001B[33m'\u001B[39m\u001B[33m|\u001B[39m\u001B[33m'\u001B[39m.join(\u001B[43mregex_opt_inner\u001B[49m\u001B[43m(\u001B[49m\u001B[38;5;28;43mlist\u001B[39;49m\u001B[43m(\u001B[49m\u001B[43mgroup\u001B[49m\u001B[43m[\u001B[49m\u001B[32;43m1\u001B[39;49m\u001B[43m]\u001B[49m\u001B[43m)\u001B[49m\u001B[43m,\u001B[49m\u001B[43m \u001B[49m\u001B[33;43m'\u001B[39;49m\u001B[33;43m'\u001B[39;49m\u001B[43m)\u001B[49m\n\u001B[32m     78\u001B[39m              \u001B[38;5;28;01mfor\u001B[39;00m group \u001B[38;5;129;01min\u001B[39;00m groupby(strings, \u001B[38;5;28;01mlambda\u001B[39;00m s: s[\u001B[32m0\u001B[39m] == first[\u001B[32m0\u001B[39m])) \\\n\u001B[32m     79\u001B[39m     + close_paren\n",
      "\u001B[36mFile \u001B[39m\u001B[32m~/PycharmProjects/cnn-model-based-on-multiple-datasets/.venv/lib/python3.12/site-packages/pygments/regexopt.py:63\u001B[39m, in \u001B[36mregex_opt_inner\u001B[39m\u001B[34m(strings, open_paren)\u001B[39m\n\u001B[32m     59\u001B[39m     plen = \u001B[38;5;28mlen\u001B[39m(prefix)\n\u001B[32m     60\u001B[39m     \u001B[38;5;66;03m# we have a prefix for all strings\u001B[39;00m\n\u001B[32m     61\u001B[39m     \u001B[38;5;66;03m# print '-> prefix:', prefix\u001B[39;00m\n\u001B[32m     62\u001B[39m     \u001B[38;5;28;01mreturn\u001B[39;00m open_paren + escape(prefix) \\\n\u001B[32m---> \u001B[39m\u001B[32m63\u001B[39m         + \u001B[43mregex_opt_inner\u001B[49m\u001B[43m(\u001B[49m\u001B[43m[\u001B[49m\u001B[43ms\u001B[49m\u001B[43m[\u001B[49m\u001B[43mplen\u001B[49m\u001B[43m:\u001B[49m\u001B[43m]\u001B[49m\u001B[43m \u001B[49m\u001B[38;5;28;43;01mfor\u001B[39;49;00m\u001B[43m \u001B[49m\u001B[43ms\u001B[49m\u001B[43m \u001B[49m\u001B[38;5;129;43;01min\u001B[39;49;00m\u001B[43m \u001B[49m\u001B[43mstrings\u001B[49m\u001B[43m]\u001B[49m\u001B[43m,\u001B[49m\u001B[43m \u001B[49m\u001B[33;43m'\u001B[39;49m\u001B[33;43m(?:\u001B[39;49m\u001B[33;43m'\u001B[39;49m\u001B[43m)\u001B[49m \\\n\u001B[32m     64\u001B[39m         + close_paren\n\u001B[32m     65\u001B[39m \u001B[38;5;66;03m# is there a suffix?\u001B[39;00m\n\u001B[32m     66\u001B[39m strings_rev = [s[::-\u001B[32m1\u001B[39m] \u001B[38;5;28;01mfor\u001B[39;00m s \u001B[38;5;129;01min\u001B[39;00m strings]\n",
      "\u001B[36mFile \u001B[39m\u001B[32m~/PycharmProjects/cnn-model-based-on-multiple-datasets/.venv/lib/python3.12/site-packages/pygments/regexopt.py:39\u001B[39m, in \u001B[36mregex_opt_inner\u001B[39m\u001B[34m(strings, open_paren)\u001B[39m\n\u001B[32m     36\u001B[39m     \u001B[38;5;28;01mreturn\u001B[39;00m open_paren + escape(first) + close_paren\n\u001B[32m     37\u001B[39m \u001B[38;5;28;01mif\u001B[39;00m \u001B[38;5;129;01mnot\u001B[39;00m first:\n\u001B[32m     38\u001B[39m     \u001B[38;5;66;03m# print '-> first string empty'\u001B[39;00m\n\u001B[32m---> \u001B[39m\u001B[32m39\u001B[39m     \u001B[38;5;28;01mreturn\u001B[39;00m open_paren + \u001B[43mregex_opt_inner\u001B[49m\u001B[43m(\u001B[49m\u001B[43mstrings\u001B[49m\u001B[43m[\u001B[49m\u001B[32;43m1\u001B[39;49m\u001B[43m:\u001B[49m\u001B[43m]\u001B[49m\u001B[43m,\u001B[49m\u001B[43m \u001B[49m\u001B[33;43m'\u001B[39;49m\u001B[33;43m(?:\u001B[39;49m\u001B[33;43m'\u001B[39;49m\u001B[43m)\u001B[49m \\\n\u001B[32m     40\u001B[39m         + \u001B[33m'\u001B[39m\u001B[33m?\u001B[39m\u001B[33m'\u001B[39m + close_paren\n\u001B[32m     41\u001B[39m \u001B[38;5;28;01mif\u001B[39;00m \u001B[38;5;28mlen\u001B[39m(first) == \u001B[32m1\u001B[39m:\n\u001B[32m     42\u001B[39m     \u001B[38;5;66;03m# multiple one-char strings? make a charset\u001B[39;00m\n\u001B[32m     43\u001B[39m     oneletter = []\n",
      "\u001B[36mFile \u001B[39m\u001B[32m~/PycharmProjects/cnn-model-based-on-multiple-datasets/.venv/lib/python3.12/site-packages/pygments/regexopt.py:77\u001B[39m, in \u001B[36mregex_opt_inner\u001B[39m\u001B[34m(strings, open_paren)\u001B[39m\n\u001B[32m     71\u001B[39m     \u001B[38;5;28;01mreturn\u001B[39;00m open_paren \\\n\u001B[32m     72\u001B[39m         + regex_opt_inner(\u001B[38;5;28msorted\u001B[39m(s[:-slen] \u001B[38;5;28;01mfor\u001B[39;00m s \u001B[38;5;129;01min\u001B[39;00m strings), \u001B[33m'\u001B[39m\u001B[33m(?:\u001B[39m\u001B[33m'\u001B[39m) \\\n\u001B[32m     73\u001B[39m         + escape(suffix[::-\u001B[32m1\u001B[39m]) + close_paren\n\u001B[32m     74\u001B[39m \u001B[38;5;66;03m# recurse on common 1-string prefixes\u001B[39;00m\n\u001B[32m     75\u001B[39m \u001B[38;5;66;03m# print '-> last resort'\u001B[39;00m\n\u001B[32m     76\u001B[39m \u001B[38;5;28;01mreturn\u001B[39;00m open_paren + \\\n\u001B[32m---> \u001B[39m\u001B[32m77\u001B[39m     \u001B[33;43m'\u001B[39;49m\u001B[33;43m|\u001B[39;49m\u001B[33;43m'\u001B[39;49m\u001B[43m.\u001B[49m\u001B[43mjoin\u001B[49m\u001B[43m(\u001B[49m\u001B[43mregex_opt_inner\u001B[49m\u001B[43m(\u001B[49m\u001B[38;5;28;43mlist\u001B[39;49m\u001B[43m(\u001B[49m\u001B[43mgroup\u001B[49m\u001B[43m[\u001B[49m\u001B[32;43m1\u001B[39;49m\u001B[43m]\u001B[49m\u001B[43m)\u001B[49m\u001B[43m,\u001B[49m\u001B[43m \u001B[49m\u001B[33;43m'\u001B[39;49m\u001B[33;43m'\u001B[39;49m\u001B[43m)\u001B[49m\n\u001B[32m     78\u001B[39m \u001B[43m             \u001B[49m\u001B[38;5;28;43;01mfor\u001B[39;49;00m\u001B[43m \u001B[49m\u001B[43mgroup\u001B[49m\u001B[43m \u001B[49m\u001B[38;5;129;43;01min\u001B[39;49;00m\u001B[43m \u001B[49m\u001B[43mgroupby\u001B[49m\u001B[43m(\u001B[49m\u001B[43mstrings\u001B[49m\u001B[43m,\u001B[49m\u001B[43m \u001B[49m\u001B[38;5;28;43;01mlambda\u001B[39;49;00m\u001B[43m \u001B[49m\u001B[43ms\u001B[49m\u001B[43m:\u001B[49m\u001B[43m \u001B[49m\u001B[43ms\u001B[49m\u001B[43m[\u001B[49m\u001B[32;43m0\u001B[39;49m\u001B[43m]\u001B[49m\u001B[43m \u001B[49m\u001B[43m==\u001B[49m\u001B[43m \u001B[49m\u001B[43mfirst\u001B[49m\u001B[43m[\u001B[49m\u001B[32;43m0\u001B[39;49m\u001B[43m]\u001B[49m\u001B[43m)\u001B[49m\u001B[43m)\u001B[49m \\\n\u001B[32m     79\u001B[39m     + close_paren\n",
      "\u001B[36mFile \u001B[39m\u001B[32m~/PycharmProjects/cnn-model-based-on-multiple-datasets/.venv/lib/python3.12/site-packages/pygments/regexopt.py:77\u001B[39m, in \u001B[36m<genexpr>\u001B[39m\u001B[34m(.0)\u001B[39m\n\u001B[32m     71\u001B[39m     \u001B[38;5;28;01mreturn\u001B[39;00m open_paren \\\n\u001B[32m     72\u001B[39m         + regex_opt_inner(\u001B[38;5;28msorted\u001B[39m(s[:-slen] \u001B[38;5;28;01mfor\u001B[39;00m s \u001B[38;5;129;01min\u001B[39;00m strings), \u001B[33m'\u001B[39m\u001B[33m(?:\u001B[39m\u001B[33m'\u001B[39m) \\\n\u001B[32m     73\u001B[39m         + escape(suffix[::-\u001B[32m1\u001B[39m]) + close_paren\n\u001B[32m     74\u001B[39m \u001B[38;5;66;03m# recurse on common 1-string prefixes\u001B[39;00m\n\u001B[32m     75\u001B[39m \u001B[38;5;66;03m# print '-> last resort'\u001B[39;00m\n\u001B[32m     76\u001B[39m \u001B[38;5;28;01mreturn\u001B[39;00m open_paren + \\\n\u001B[32m---> \u001B[39m\u001B[32m77\u001B[39m     \u001B[33m'\u001B[39m\u001B[33m|\u001B[39m\u001B[33m'\u001B[39m.join(\u001B[43mregex_opt_inner\u001B[49m\u001B[43m(\u001B[49m\u001B[38;5;28;43mlist\u001B[39;49m\u001B[43m(\u001B[49m\u001B[43mgroup\u001B[49m\u001B[43m[\u001B[49m\u001B[32;43m1\u001B[39;49m\u001B[43m]\u001B[49m\u001B[43m)\u001B[49m\u001B[43m,\u001B[49m\u001B[43m \u001B[49m\u001B[33;43m'\u001B[39;49m\u001B[33;43m'\u001B[39;49m\u001B[43m)\u001B[49m\n\u001B[32m     78\u001B[39m              \u001B[38;5;28;01mfor\u001B[39;00m group \u001B[38;5;129;01min\u001B[39;00m groupby(strings, \u001B[38;5;28;01mlambda\u001B[39;00m s: s[\u001B[32m0\u001B[39m] == first[\u001B[32m0\u001B[39m])) \\\n\u001B[32m     79\u001B[39m     + close_paren\n",
      "\u001B[36mFile \u001B[39m\u001B[32m~/PycharmProjects/cnn-model-based-on-multiple-datasets/.venv/lib/python3.12/site-packages/pygments/regexopt.py:77\u001B[39m, in \u001B[36mregex_opt_inner\u001B[39m\u001B[34m(strings, open_paren)\u001B[39m\n\u001B[32m     71\u001B[39m     \u001B[38;5;28;01mreturn\u001B[39;00m open_paren \\\n\u001B[32m     72\u001B[39m         + regex_opt_inner(\u001B[38;5;28msorted\u001B[39m(s[:-slen] \u001B[38;5;28;01mfor\u001B[39;00m s \u001B[38;5;129;01min\u001B[39;00m strings), \u001B[33m'\u001B[39m\u001B[33m(?:\u001B[39m\u001B[33m'\u001B[39m) \\\n\u001B[32m     73\u001B[39m         + escape(suffix[::-\u001B[32m1\u001B[39m]) + close_paren\n\u001B[32m     74\u001B[39m \u001B[38;5;66;03m# recurse on common 1-string prefixes\u001B[39;00m\n\u001B[32m     75\u001B[39m \u001B[38;5;66;03m# print '-> last resort'\u001B[39;00m\n\u001B[32m     76\u001B[39m \u001B[38;5;28;01mreturn\u001B[39;00m open_paren + \\\n\u001B[32m---> \u001B[39m\u001B[32m77\u001B[39m     \u001B[33;43m'\u001B[39;49m\u001B[33;43m|\u001B[39;49m\u001B[33;43m'\u001B[39;49m\u001B[43m.\u001B[49m\u001B[43mjoin\u001B[49m\u001B[43m(\u001B[49m\u001B[43mregex_opt_inner\u001B[49m\u001B[43m(\u001B[49m\u001B[38;5;28;43mlist\u001B[39;49m\u001B[43m(\u001B[49m\u001B[43mgroup\u001B[49m\u001B[43m[\u001B[49m\u001B[32;43m1\u001B[39;49m\u001B[43m]\u001B[49m\u001B[43m)\u001B[49m\u001B[43m,\u001B[49m\u001B[43m \u001B[49m\u001B[33;43m'\u001B[39;49m\u001B[33;43m'\u001B[39;49m\u001B[43m)\u001B[49m\n\u001B[32m     78\u001B[39m \u001B[43m             \u001B[49m\u001B[38;5;28;43;01mfor\u001B[39;49;00m\u001B[43m \u001B[49m\u001B[43mgroup\u001B[49m\u001B[43m \u001B[49m\u001B[38;5;129;43;01min\u001B[39;49;00m\u001B[43m \u001B[49m\u001B[43mgroupby\u001B[49m\u001B[43m(\u001B[49m\u001B[43mstrings\u001B[49m\u001B[43m,\u001B[49m\u001B[43m \u001B[49m\u001B[38;5;28;43;01mlambda\u001B[39;49;00m\u001B[43m \u001B[49m\u001B[43ms\u001B[49m\u001B[43m:\u001B[49m\u001B[43m \u001B[49m\u001B[43ms\u001B[49m\u001B[43m[\u001B[49m\u001B[32;43m0\u001B[39;49m\u001B[43m]\u001B[49m\u001B[43m \u001B[49m\u001B[43m==\u001B[49m\u001B[43m \u001B[49m\u001B[43mfirst\u001B[49m\u001B[43m[\u001B[49m\u001B[32;43m0\u001B[39;49m\u001B[43m]\u001B[49m\u001B[43m)\u001B[49m\u001B[43m)\u001B[49m \\\n\u001B[32m     79\u001B[39m     + close_paren\n",
      "\u001B[36mFile \u001B[39m\u001B[32m~/PycharmProjects/cnn-model-based-on-multiple-datasets/.venv/lib/python3.12/site-packages/pygments/regexopt.py:77\u001B[39m, in \u001B[36m<genexpr>\u001B[39m\u001B[34m(.0)\u001B[39m\n\u001B[32m     71\u001B[39m     \u001B[38;5;28;01mreturn\u001B[39;00m open_paren \\\n\u001B[32m     72\u001B[39m         + regex_opt_inner(\u001B[38;5;28msorted\u001B[39m(s[:-slen] \u001B[38;5;28;01mfor\u001B[39;00m s \u001B[38;5;129;01min\u001B[39;00m strings), \u001B[33m'\u001B[39m\u001B[33m(?:\u001B[39m\u001B[33m'\u001B[39m) \\\n\u001B[32m     73\u001B[39m         + escape(suffix[::-\u001B[32m1\u001B[39m]) + close_paren\n\u001B[32m     74\u001B[39m \u001B[38;5;66;03m# recurse on common 1-string prefixes\u001B[39;00m\n\u001B[32m     75\u001B[39m \u001B[38;5;66;03m# print '-> last resort'\u001B[39;00m\n\u001B[32m     76\u001B[39m \u001B[38;5;28;01mreturn\u001B[39;00m open_paren + \\\n\u001B[32m---> \u001B[39m\u001B[32m77\u001B[39m     \u001B[33m'\u001B[39m\u001B[33m|\u001B[39m\u001B[33m'\u001B[39m.join(\u001B[43mregex_opt_inner\u001B[49m\u001B[43m(\u001B[49m\u001B[38;5;28;43mlist\u001B[39;49m\u001B[43m(\u001B[49m\u001B[43mgroup\u001B[49m\u001B[43m[\u001B[49m\u001B[32;43m1\u001B[39;49m\u001B[43m]\u001B[49m\u001B[43m)\u001B[49m\u001B[43m,\u001B[49m\u001B[43m \u001B[49m\u001B[33;43m'\u001B[39;49m\u001B[33;43m'\u001B[39;49m\u001B[43m)\u001B[49m\n\u001B[32m     78\u001B[39m              \u001B[38;5;28;01mfor\u001B[39;00m group \u001B[38;5;129;01min\u001B[39;00m groupby(strings, \u001B[38;5;28;01mlambda\u001B[39;00m s: s[\u001B[32m0\u001B[39m] == first[\u001B[32m0\u001B[39m])) \\\n\u001B[32m     79\u001B[39m     + close_paren\n",
      "\u001B[36mFile \u001B[39m\u001B[32m~/PycharmProjects/cnn-model-based-on-multiple-datasets/.venv/lib/python3.12/site-packages/pygments/regexopt.py:36\u001B[39m, in \u001B[36mregex_opt_inner\u001B[39m\u001B[34m(strings, open_paren)\u001B[39m\n\u001B[32m     33\u001B[39m first = strings[\u001B[32m0\u001B[39m]\n\u001B[32m     34\u001B[39m \u001B[38;5;28;01mif\u001B[39;00m \u001B[38;5;28mlen\u001B[39m(strings) == \u001B[32m1\u001B[39m:\n\u001B[32m     35\u001B[39m     \u001B[38;5;66;03m# print '-> only 1 string'\u001B[39;00m\n\u001B[32m---> \u001B[39m\u001B[32m36\u001B[39m     \u001B[38;5;28;01mreturn\u001B[39;00m open_paren + \u001B[43mescape\u001B[49m\u001B[43m(\u001B[49m\u001B[43mfirst\u001B[49m\u001B[43m)\u001B[49m + close_paren\n\u001B[32m     37\u001B[39m \u001B[38;5;28;01mif\u001B[39;00m \u001B[38;5;129;01mnot\u001B[39;00m first:\n\u001B[32m     38\u001B[39m     \u001B[38;5;66;03m# print '-> first string empty'\u001B[39;00m\n\u001B[32m     39\u001B[39m     \u001B[38;5;28;01mreturn\u001B[39;00m open_paren + regex_opt_inner(strings[\u001B[32m1\u001B[39m:], \u001B[33m'\u001B[39m\u001B[33m(?:\u001B[39m\u001B[33m'\u001B[39m) \\\n\u001B[32m     40\u001B[39m         + \u001B[33m'\u001B[39m\u001B[33m?\u001B[39m\u001B[33m'\u001B[39m + close_paren\n",
      "\u001B[36mFile \u001B[39m\u001B[32m/Library/Frameworks/Python.framework/Versions/3.12/lib/python3.12/re/__init__.py:260\u001B[39m, in \u001B[36mescape\u001B[39m\u001B[34m(pattern)\u001B[39m\n\u001B[32m    256\u001B[39m \u001B[38;5;250m\u001B[39m\u001B[33;03m\"\"\"\u001B[39;00m\n\u001B[32m    257\u001B[39m \u001B[33;03mEscape special characters in a string.\u001B[39;00m\n\u001B[32m    258\u001B[39m \u001B[33;03m\"\"\"\u001B[39;00m\n\u001B[32m    259\u001B[39m \u001B[38;5;28;01mif\u001B[39;00m \u001B[38;5;28misinstance\u001B[39m(pattern, \u001B[38;5;28mstr\u001B[39m):\n\u001B[32m--> \u001B[39m\u001B[32m260\u001B[39m     \u001B[38;5;28;01mreturn\u001B[39;00m \u001B[43mpattern\u001B[49m\u001B[43m.\u001B[49m\u001B[43mtranslate\u001B[49m\u001B[43m(\u001B[49m\u001B[43m_special_chars_map\u001B[49m\u001B[43m)\u001B[49m\n\u001B[32m    261\u001B[39m \u001B[38;5;28;01melse\u001B[39;00m:\n\u001B[32m    262\u001B[39m     pattern = \u001B[38;5;28mstr\u001B[39m(pattern, \u001B[33m'\u001B[39m\u001B[33mlatin1\u001B[39m\u001B[33m'\u001B[39m)\n",
      "\u001B[31mKeyboardInterrupt\u001B[39m: "
     ]
    }
   ],
   "execution_count": 14
  },
  {
   "metadata": {},
   "cell_type": "code",
   "outputs": [],
   "execution_count": null,
   "source": [
    "def plotmodelhistory(history):\n",
    "    fig, axs = plt.subplots(1,2,figsize=(15,5))\n",
    "    # summarize history for accuracy\n",
    "    axs[0].plot(history.history['accuracy'])\n",
    "    axs[0].plot(history.history['val_accuracy'])\n",
    "    axs[0].set_title('Model Accuracy')\n",
    "    axs[0].set_ylabel('Accuracy')\n",
    "    axs[0].set_xlabel('Epoch')\n",
    "    axs[0].legend(['train', 'validate'], loc='upper left')\n",
    "    # summarize history for loss\n",
    "    axs[1].plot(history.history['loss'])\n",
    "    axs[1].plot(history.history['val_loss'])\n",
    "    axs[1].set_title('Model Loss')\n",
    "    axs[1].set_ylabel('Loss')\n",
    "    axs[1].set_xlabel('Epoch')\n",
    "    axs[1].legend(['train', 'validate'], loc='upper left')\n",
    "    plt.show()\n",
    "\n",
    "# list all data in history\n",
    "print(history.history.keys())\n",
    "\n",
    "plotmodelhistory(history)"
   ],
   "id": "b0957850d98bad69"
  },
  {
   "metadata": {},
   "cell_type": "code",
   "outputs": [],
   "execution_count": null,
   "source": [
    "scores = model.evaluate(x_test, y_test, verbose=1)\n",
    "print('Test loss:', scores[0])\n",
    "print('Test accuracy:', scores[1])\n",
    "\n",
    "# make prediction.\n",
    "pred = model.predict(x_test)\n",
    "\n",
    "title = \"Colab Notification\"\n",
    "body = \"Model Testing and Predictions Finished\"\n",
    "push = pb.push_note(title, body)"
   ],
   "id": "d8e90f1f95e0b086"
  },
  {
   "metadata": {},
   "cell_type": "code",
   "outputs": [],
   "execution_count": null,
   "source": [
    "labels = ['Airplane', 'Automobile', 'Bird', 'Cat', 'Deer', 'Dog', 'Frog', 'Horse', 'Ship', 'Truck']\n",
    "Y_true = np.argmax(y_test, axis=1)\n",
    "Y_pred_classes = np.argmax(pred, axis=1)\n",
    "\n",
    "R = 5\n",
    "C = 5\n",
    "fig, axes = plt.subplots(R, C, figsize=(12,12))\n",
    "axes = axes.ravel()\n",
    "\n",
    "for i in np.arange(0, R*C):\n",
    "    axes[i].imshow(x_test[i])\n",
    "    axes[i].set_title(\"True: %s \\nPredict: %s\" % (labels[Y_true[i]], labels[Y_pred_classes[i]]))\n",
    "    axes[i].axis('off')\n",
    "    plt.subplots_adjust(wspace=1)"
   ],
   "id": "e7ec3c2388fe7fd9"
  },
  {
   "metadata": {},
   "cell_type": "code",
   "outputs": [],
   "execution_count": null,
   "source": [
    "save_dir = \"/Users/anshumaansoni/PycharmProjects/cnn-model-based-on-multiple-datasets\"\n",
    "model_name = 'keras_cifar10_trained_model.keras'\n",
    "\n",
    "# Save model and weights\n",
    "\n",
    "model_path = os.path.join(save_dir, model_name)\n",
    "model.save(model_path)\n",
    "print('Saved trained model at %s ' % model_path)\n",
    "\n",
    "# Score trained model.\n",
    "scores = model.evaluate(x_test, y_test, verbose=1)\n",
    "print('Test loss:', scores[0])\n",
    "print('Test accuracy:', scores[1])"
   ],
   "id": "518a314b061d9445"
  }
 ],
 "metadata": {
  "kernelspec": {
   "display_name": "Python 3",
   "language": "python",
   "name": "python3"
  },
  "language_info": {
   "codemirror_mode": {
    "name": "ipython",
    "version": 2
   },
   "file_extension": ".py",
   "mimetype": "text/x-python",
   "name": "python",
   "nbconvert_exporter": "python",
   "pygments_lexer": "ipython2",
   "version": "2.7.6"
  }
 },
 "nbformat": 4,
 "nbformat_minor": 5
}
